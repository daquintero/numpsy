{
 "cells": [
  {
   "cell_type": "code",
   "execution_count": 1,
   "metadata": {},
   "outputs": [],
   "source": [
    "import numpsy as nsy\n",
    "import pandas as pd"
   ]
  },
  {
   "cell_type": "code",
   "execution_count": 2,
   "metadata": {},
   "outputs": [
    {
     "data": {
      "text/plain": [
       "Index(['Unnamed: 0', 'bottom_heater', 'bottom_heater_connection',\n",
       "       'bottom_wire_offset_top_mzi', 'deep_trench_abstracted_configuration',\n",
       "       'deep_trench_bottom_inner_offset',\n",
       "       'deep_trench_bottom_outer_offset_bottom_path',\n",
       "       'deep_trench_bottom_outer_offset_top_path',\n",
       "       'deep_trench_inner_insulation', 'deep_trench_insulation_width',\n",
       "       'deep_trench_outer_insulation', 'deep_trench_top_inner_offset',\n",
       "       'deep_trench_top_outer_offset_bottom_path',\n",
       "       'deep_trench_top_outer_offset_top_path',\n",
       "       'effective_heater_length_top_mzi', 'experiments_descriptors',\n",
       "       'experiments_labels', 'experiments_separation',\n",
       "       'heater_resistance_top_mzi', 'heater_stroke_definitions',\n",
       "       'heater_trim_bottom_mzi', 'heater_trim_top_mzi', 'insulation',\n",
       "       'mzi_heater_length', 'mzi_heater_waveguide_length', 'mzi_inner_gap',\n",
       "       'mzi_waveguide_bend_radius', 'mzi_width', 'top_wire_offset_top_mzi'],\n",
       "      dtype='object')"
      ]
     },
     "execution_count": 2,
     "metadata": {},
     "output_type": "execute_result"
    }
   ],
   "source": [
    "heater_experiments = pd.read_csv(\"./D01_experiments.csv\")\n",
    "heater_experiments.columns"
   ]
  },
  {
   "cell_type": "code",
   "execution_count": null,
   "metadata": {},
   "outputs": [],
   "source": []
  },
  {
   "cell_type": "code",
   "execution_count": 3,
   "metadata": {},
   "outputs": [
    {
     "data": {
      "text/latex": [
       "$\\displaystyle dn/dT$"
      ],
      "text/plain": [
       "dn/dT"
      ]
     },
     "execution_count": 3,
     "metadata": {},
     "output_type": "execute_result"
    }
   ],
   "source": [
    "thermo_optic_coefficient_2um = nsy.Constant(\n",
    "    name=\"thermo_optic_coefficient_2um\",\n",
    "    numerical=1.86e-4,\n",
    "    symbol=\"dn/dT\",\n",
    ") # This is for 1.5um, have to check 2um\n",
    "thermo_optic_coefficient_2um.s"
   ]
  },
  {
   "cell_type": "code",
   "execution_count": 39,
   "metadata": {},
   "outputs": [
    {
     "name": "stdout",
     "output_type": "stream",
     "text": [
      "Heater length: 40.0\n"
     ]
    },
    {
     "data": {
      "text/plain": [
       "{'estimated_phase_shift': 7.012034802812419,\n",
       " 'temperature_difference': 300,\n",
       " 'length': 4e-05}"
      ]
     },
     "execution_count": 39,
     "metadata": {},
     "output_type": "execute_result"
    }
   ],
   "source": [
    "def estimated_phase_shift(\n",
    "    length = 40e-6,\n",
    "    temperature_difference = 300,\n",
    "    wavelength = 2e-6\n",
    "):\n",
    "    print(\"Heater length: \" + str(length *1e6))\n",
    "    temperature_difference = nsy.Variable(numerical=temperature_difference)\n",
    "    estimated_phase_shift = (2 * nsy.c.pi * length * thermo_optic_coefficient_2um) * temperature_difference / wavelength\n",
    "    return {\"estimated_phase_shift\": estimated_phase_shift.n,\n",
    "            \"temperature_difference\": temperature_difference.n,\n",
    "            \"length\": length}\n",
    "estimated_phase_shift()"
   ]
  },
  {
   "cell_type": "code",
   "execution_count": 10,
   "metadata": {},
   "outputs": [],
   "source": [
    "def experiments_properties(experiment_index):\n",
    "    print(\"MZI Index: \" + str(experiment_index))\n",
    "    experiment = heater_experiments.iloc[experiment_index]\n",
    "    experiment.effective_heater_length_top_mzi = (experiment.effective_heater_length_top_mzi) * 1e-6\n",
    "    print(experiment.experiments_descriptors)\n",
    "    print(\"Estimated resistance is: \" + str(experiment.experiments_descriptors) )\n",
    "    return experiment"
   ]
  },
  {
   "cell_type": "code",
   "execution_count": null,
   "metadata": {},
   "outputs": [],
   "source": [
    "def resistance_calculator(heater_length,\n",
    "                          heater_width,\n",
    "                          heater_square_resistance = None):\n",
    "    return heater_square_resistance * heater_length / heater_width"
   ]
  },
  {
   "cell_type": "markdown",
   "metadata": {},
   "source": [
    "According to Lumerical simulations, this gives us approx 20-30K for 25mW, or a 30mW Pi, so this is the performance we want to match.\n",
    "[noninsulated_25mW](../img/noninsulated_25mW.png)"
   ]
  },
  {
   "cell_type": "code",
   "execution_count": 41,
   "metadata": {},
   "outputs": [
    {
     "name": "stdout",
     "output_type": "stream",
     "text": [
      "MZI Index: 10\n",
      "Non-insulated minimum manufacturable deep trench geometry equivalent\n",
      "Heater length: 179.99999999999997\n"
     ]
    },
    {
     "data": {
      "text/plain": [
       "{'estimated_phase_shift': 3.1554156612655886,\n",
       " 'temperature_difference': 30,\n",
       " 'length': 0.00017999999999999998}"
      ]
     },
     "execution_count": 41,
     "metadata": {},
     "output_type": "execute_result"
    }
   ],
   "source": [
    "# Current metric of Noninsulated case\n",
    "# Requires approx 30mW for Pi\n",
    "experiment_index = 10\n",
    "baseline_power_noninsulated_delta_K_noninsulated = 30\n",
    "experiment = experiments_properties(experiment_index)\n",
    "experiment_1_0 = estimated_phase_shift(\n",
    "    length = experiment.effective_heater_length_top_mzi,\n",
    "    temperature_difference = baseline_power_noninsulated_delta_K_noninsulated,\n",
    "    wavelength = 2e-6\n",
    ")\n",
    "experiment_1_0"
   ]
  },
  {
   "cell_type": "code",
   "execution_count": 22,
   "metadata": {},
   "outputs": [
    {
     "name": "stdout",
     "output_type": "stream",
     "text": [
      "MZI Index: 0\n",
      "Bend test deep trench geometry - standard heater length - minimum DT crow\n",
      "Heater length: 119.99999999999999\n"
     ]
    },
    {
     "data": {
      "text/plain": [
       "{'estimated_phase_shift': 7.012034802812417,\n",
       " 'temperature_difference': 100,\n",
       " 'length': 0.00011999999999999999}"
      ]
     },
     "execution_count": 22,
     "metadata": {},
     "output_type": "execute_result"
    }
   ],
   "source": [
    "# GOAL minimize power required for a pi phase shift and the physical space too\n",
    "# Power reduction via deep trench\n",
    "# Idenfity minimum length DT 180um means 2x power efiiciency\n",
    "# \n",
    "# TODO find optimal length for 2pi phase shift\n",
    "# TODO Use this as heater length and minimize crow length\n",
    "experiment_index = 0 \n",
    "experiment = experiments_properties(experiment_index)\n",
    "experiment_0_0 = estimated_phase_shift(\n",
    "    length = experiment.effective_heater_length_top_mzi,\n",
    "    temperature_difference = 100,\n",
    "    wavelength = 2e-6,\n",
    ")\n",
    "experiment_0_0"
   ]
  },
  {
   "cell_type": "code",
   "execution_count": 25,
   "metadata": {},
   "outputs": [
    {
     "name": "stdout",
     "output_type": "stream",
     "text": [
      "MZI Index: 1\n",
      "Insulated manufacturable deep trench geometry - manufacturable crazy small (9x less) heater length\n",
      "Heater length: 26.0\n"
     ]
    },
    {
     "data": {
      "text/plain": [
       "{'estimated_phase_shift': 3.79818551819006,\n",
       " 'temperature_difference': 250,\n",
       " 'length': 2.6e-05}"
      ]
     },
     "execution_count": 25,
     "metadata": {},
     "output_type": "execute_result"
    }
   ],
   "source": [
    "experiment_index = 1\n",
    "experiment = experiments_properties(experiment_index)\n",
    "experiment_1_0 = estimated_phase_shift(\n",
    "    length = experiment.effective_heater_length_top_mzi,\n",
    "    temperature_difference = 250,\n",
    "    wavelength = 2e-6\n",
    ")\n",
    "experiment_1_0"
   ]
  },
  {
   "cell_type": "code",
   "execution_count": 53,
   "metadata": {},
   "outputs": [
    {
     "name": "stdout",
     "output_type": "stream",
     "text": [
      "MZI Index: 2\n",
      "Insulated manufacturable deep trench geometry - manufacturable small (2x less) heater length\n",
      "8.999999999999999e-05\n",
      "Heater length: 60.0\n"
     ]
    },
    {
     "data": {
      "text/plain": [
       "{'estimated_phase_shift': 3.1554156612655886,\n",
       " 'temperature_difference': 90,\n",
       " 'length': 6e-05}"
      ]
     },
     "execution_count": 53,
     "metadata": {},
     "output_type": "execute_result"
    }
   ],
   "source": [
    "experiment_index = 2\n",
    "deep_trench_temperature_increase_efficiency = 17.3021 / 6.45081 # 2.7 approx\n",
    "efficiency_hypothesis = 3\n",
    "experiment = experiments_properties(experiment_index)\n",
    "# Same effectivity as deep trenched\n",
    "# Goal minimize heater length for same power phase shift\n",
    "print(experiment.effective_heater_length_top_mzi)\n",
    "experiment_2_0 = estimated_phase_shift(\n",
    "    length = 60e-6,\n",
    "    temperature_difference = efficiency_hypothesis * baseline_power_noninsulated_delta_K_noninsulated,\n",
    "    wavelength = 2e-6\n",
    ")\n",
    "experiment_2_0\n",
    "# So if length stays the same, for the same power you get 3x temperature change, so we could halve or proportioanlly reduce"
   ]
  },
  {
   "cell_type": "code",
   "execution_count": 50,
   "metadata": {},
   "outputs": [
    {
     "name": "stdout",
     "output_type": "stream",
     "text": [
      "MZI Index: 3\n",
      "Insulated manufacturable deep trench geometry - combined optimizations (TODO)\n",
      "Heater length: 89.99999999999999\n"
     ]
    },
    {
     "data": {
      "text/plain": [
       "{'estimated_phase_shift': 1.5777078306327943,\n",
       " 'temperature_difference': 30,\n",
       " 'length': 8.999999999999999e-05}"
      ]
     },
     "execution_count": 50,
     "metadata": {},
     "output_type": "execute_result"
    }
   ],
   "source": [
    "experiment_index = 3\n",
    "experiment = experiments_properties(experiment_index)\n",
    "# Goal minimize heater length for same power phase shift\n",
    "experiment_2_0 = estimated_phase_shift(\n",
    "    length = experiment.effective_heater_length_top_mzi,\n",
    "    temperature_difference = baseline_power_noninsulated_delta_K_noninsulated,\n",
    "    wavelength = 2e-6\n",
    ")\n",
    "experiment_2_0\n",
    "# Let's add 15um in the middle crosstalk reduction\n",
    "# Note we're doubling the heater width"
   ]
  },
  {
   "cell_type": "code",
   "execution_count": 63,
   "metadata": {},
   "outputs": [
    {
     "name": "stdout",
     "output_type": "stream",
     "text": [
      "MZI Index: 5\n",
      "Insulated manufacturable deep trench geometry - optimization heater width geometry (TODO)\n",
      "0.00017999999999999998\n",
      "Heater length: 40.0\n"
     ]
    },
    {
     "data": {
      "text/plain": [
       "{'estimated_phase_shift': 3.5060174014062095,\n",
       " 'temperature_difference': 150,\n",
       " 'length': 4e-05}"
      ]
     },
     "execution_count": 63,
     "metadata": {},
     "output_type": "execute_result"
    }
   ],
   "source": [
    "experiment_index = 5\n",
    "deep_trench_temperature_increase_efficiency = 17.3021 / 6.45081 # 2.7 approx\n",
    "efficiency_hypothesis = 5\n",
    "experiment = experiments_properties(experiment_index)\n",
    "# Same effectivity as deep trenched\n",
    "# Goal minimize heater length for same power phase shift\n",
    "print(experiment.effective_heater_length_top_mzi)\n",
    "experiment_2_0 = estimated_phase_shift(\n",
    "    length = 40e-6,\n",
    "    temperature_difference = efficiency_hypothesis * baseline_power_noninsulated_delta_K_noninsulated,\n",
    "    wavelength = 2e-6\n",
    ")\n",
    "experiment_2_0\n",
    "# So if length stays the same, for the same power you get 3x temperature change, so we could halve or proportioanlly reduce"
   ]
  },
  {
   "cell_type": "code",
   "execution_count": null,
   "metadata": {},
   "outputs": [],
   "source": [
    "def estimated_phase_shift(length = 180e-6, temperature_difference = 80):\n",
    "    return (2 * np.pi * length * thermo_optic_coefficient_2um) * temperature_difference / 2e-6 \n",
    "estimated_phase_shift()"
   ]
  },
  {
   "cell_type": "code",
   "execution_count": null,
   "metadata": {},
   "outputs": [],
   "source": []
  },
  {
   "cell_type": "code",
   "execution_count": null,
   "metadata": {},
   "outputs": [],
   "source": [
    "resistance_calculator(80, 2.1, 11.5)"
   ]
  },
  {
   "cell_type": "code",
   "execution_count": null,
   "metadata": {},
   "outputs": [],
   "source": [
    "(0.0023 ** 2) * 220"
   ]
  },
  {
   "cell_type": "code",
   "execution_count": null,
   "metadata": {},
   "outputs": [],
   "source": [
    "single_resistor = resistance_calculator(heater_length = 40,\n",
    "                      heater_width = 2.1,\n",
    "                      heater_square_resistance = 11.5)\n",
    "single_resistor"
   ]
  },
  {
   "cell_type": "code",
   "execution_count": null,
   "metadata": {},
   "outputs": [],
   "source": [
    "# If you connect 7 in series\n",
    "# Equivalent resistance of 7 in series\n",
    "single_resistor * 7\n",
    "single_resistor * 7"
   ]
  },
  {
   "cell_type": "code",
   "execution_count": null,
   "metadata": {},
   "outputs": [],
   "source": [
    "# If you connect 7 in parallel\n",
    "# Equivalent resistance of 7 in series\n",
    "single_resistor / 7\n",
    "single_resistor / 7"
   ]
  },
  {
   "cell_type": "code",
   "execution_count": null,
   "metadata": {},
   "outputs": [],
   "source": [
    "# Total equivalent resistance of \n",
    "# If you connect 3 circuits in parallel of 7 in series\n",
    "(single_resistor * 7) / 3\n",
    "(single_resistor * 7) / 3"
   ]
  },
  {
   "cell_type": "code",
   "execution_count": null,
   "metadata": {},
   "outputs": [],
   "source": [
    "# The problem with this is that the Q8bs are voltage driven, \n",
    "# meaning you want V/I = max impedance or\n",
    "20/0.05\n",
    "# 400 ohms you want to match at the maximum\n",
    "# You can do a maximum power transfer on anything lower, \n",
    "# with less control accuracy"
   ]
  },
  {
   "cell_type": "code",
   "execution_count": null,
   "metadata": {},
   "outputs": [],
   "source": [
    "#Maximum power transfer is (in Watts)\n",
    "20 * 0.05"
   ]
  },
  {
   "cell_type": "code",
   "execution_count": null,
   "metadata": {},
   "outputs": [],
   "source": [
    "20. / 220."
   ]
  },
  {
   "cell_type": "code",
   "execution_count": null,
   "metadata": {},
   "outputs": [],
   "source": [
    "20 / (220 / 21) "
   ]
  },
  {
   "cell_type": "code",
   "execution_count": null,
   "metadata": {},
   "outputs": [],
   "source": [
    "(220 * 7)  * 0.1"
   ]
  },
  {
   "cell_type": "code",
   "execution_count": null,
   "metadata": {},
   "outputs": [],
   "source": [
    "#  \n",
    "220 * 0.05 / 20."
   ]
  },
  {
   "cell_type": "code",
   "execution_count": null,
   "metadata": {},
   "outputs": [],
   "source": [
    "(0.03 / 400.) ** (0.5)"
   ]
  },
  {
   "cell_type": "code",
   "execution_count": null,
   "metadata": {},
   "outputs": [],
   "source": []
  }
 ],
 "metadata": {
  "kernelspec": {
   "display_name": "Python 3",
   "language": "python",
   "name": "python3"
  },
  "language_info": {
   "codemirror_mode": {
    "name": "ipython",
    "version": 3
   },
   "file_extension": ".py",
   "mimetype": "text/x-python",
   "name": "python",
   "nbconvert_exporter": "python",
   "pygments_lexer": "ipython3",
   "version": "3.8.3"
  }
 },
 "nbformat": 4,
 "nbformat_minor": 4
}
