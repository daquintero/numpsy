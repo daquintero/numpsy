{
 "cells": [
  {
   "cell_type": "markdown",
   "metadata": {},
   "source": [
    "### Installation"
   ]
  },
  {
   "cell_type": "markdown",
   "metadata": {},
   "source": [
    "*Import NumpSy*"
   ]
  },
  {
   "cell_type": "code",
   "execution_count": 2,
   "metadata": {},
   "outputs": [],
   "source": [
    "import numpsy as nsy"
   ]
  },
  {
   "cell_type": "markdown",
   "metadata": {},
   "source": [
    "## Units"
   ]
  },
  {
   "cell_type": "markdown",
   "metadata": {},
   "source": [
    "#### Declare a Unit"
   ]
  },
  {
   "cell_type": "code",
   "execution_count": 6,
   "metadata": {},
   "outputs": [
    {
     "data": {
      "text/markdown": [
       "|                     | Unit                            |\n",
       "|:--------------------|:--------------------------------|\n",
       "| name                | meter                           |\n",
       "| symbol              | \\begin{equation}m\\end{equation} |\n",
       "| symbolic_expression | \\begin{equation}Ø\\end{equation} |"
      ],
      "text/plain": [
       "Unit       name name_expression                           symbol  \\\n",
       "Unit  meter       undefined  \\begin{equation}m\\end{equation}   \n",
       "\n",
       "                  symbolic_expression  \n",
       "Unit  \\begin{equation}Ø\\end{equation}  "
      ]
     },
     "execution_count": 6,
     "metadata": {},
     "output_type": "execute_result"
    }
   ],
   "source": [
    "meter = nsy.Unit(name=\"meter\", symbol=\"m\")\n",
    "meter"
   ]
  },
  {
   "cell_type": "markdown",
   "metadata": {},
   "source": [
    "#### Retrieve attributes from this Unit"
   ]
  },
  {
   "cell_type": "code",
   "execution_count": 3,
   "metadata": {},
   "outputs": [
    {
     "data": {
      "text/latex": [
       "$\\displaystyle m$"
      ],
      "text/plain": [
       "m"
      ]
     },
     "execution_count": 3,
     "metadata": {},
     "output_type": "execute_result"
    }
   ],
   "source": [
    "meter.s"
   ]
  },
  {
   "cell_type": "code",
   "execution_count": 4,
   "metadata": {},
   "outputs": [
    {
     "data": {
      "text/latex": [
       "$\\displaystyle m$"
      ],
      "text/plain": [
       "m"
      ]
     },
     "execution_count": 4,
     "metadata": {},
     "output_type": "execute_result"
    }
   ],
   "source": [
    "meter.symbol"
   ]
  },
  {
   "cell_type": "code",
   "execution_count": 5,
   "metadata": {},
   "outputs": [
    {
     "data": {
      "text/plain": [
       "'meter'"
      ]
     },
     "execution_count": 5,
     "metadata": {},
     "output_type": "execute_result"
    }
   ],
   "source": [
    "meter.name"
   ]
  },
  {
   "cell_type": "markdown",
   "metadata": {},
   "source": [
    "#### Operate with this unit"
   ]
  },
  {
   "cell_type": "code",
   "execution_count": 6,
   "metadata": {},
   "outputs": [
    {
     "data": {
      "text/markdown": [
       "|                     | Unit                                      |\n",
       "|:--------------------|:------------------------------------------|\n",
       "| name                | (Farad)_per_(meter)                       |\n",
       "| symbol              | \\begin{equation}Ø\\end{equation}           |\n",
       "| symbolic_expression | \\begin{equation}\\frac{F}{m}\\end{equation} |"
      ],
      "text/plain": [
       "Unit                     name name_expression                           symbol  \\\n",
       "Unit  (Farad)_per_(meter)       undefined  \\begin{equation}Ø\\end{equation}   \n",
       "\n",
       "                            symbolic_expression  \n",
       "Unit  \\begin{equation}\\frac{F}{m}\\end{equation}  "
      ]
     },
     "execution_count": 6,
     "metadata": {},
     "output_type": "execute_result"
    }
   ],
   "source": [
    "farad_per_meter = nsy.Unit(name=\"Farad\", symbol=\"F\") / meter\n",
    "farad_per_meter"
   ]
  },
  {
   "cell_type": "markdown",
   "metadata": {},
   "source": [
    "#### Append to Unit Library"
   ]
  },
  {
   "cell_type": "code",
   "execution_count": 7,
   "metadata": {},
   "outputs": [
    {
     "data": {
      "text/plain": [
       "Hertz     Unit       name name_expression               ...\n",
       "Farad     Unit       name name_expression               ...\n",
       "meter     Unit       name name_expression               ...\n",
       "ohm       Unit     name name_expression                 ...\n",
       "ratio     Unit       name name_expression               ...\n",
       "second    Unit        name name_expression              ...\n",
       "Name: 0, dtype: object"
      ]
     },
     "execution_count": 7,
     "metadata": {},
     "output_type": "execute_result"
    }
   ],
   "source": [
    "nsy.Units().data"
   ]
  },
  {
   "cell_type": "code",
   "execution_count": 8,
   "metadata": {},
   "outputs": [
    {
     "data": {
      "text/plain": [
       "Hertz     Unit       name name_expression               ...\n",
       "Farad     Unit       name name_expression               ...\n",
       "meter     Unit       name name_expression               ...\n",
       "ohm       Unit     name name_expression                 ...\n",
       "ratio     Unit       name name_expression               ...\n",
       "second    Unit        name name_expression              ...\n",
       "Name: 0, dtype: object"
      ]
     },
     "execution_count": 8,
     "metadata": {},
     "output_type": "execute_result"
    }
   ],
   "source": [
    "nsy.u"
   ]
  },
  {
   "cell_type": "markdown",
   "metadata": {},
   "source": [
    "## Constant"
   ]
  },
  {
   "cell_type": "code",
   "execution_count": 9,
   "metadata": {},
   "outputs": [
    {
     "data": {
      "text/markdown": [
       "|                     | Constant                                                       |\n",
       "|:--------------------|:---------------------------------------------------------------|\n",
       "| name                | permittivity_vaccum                                            |\n",
       "| symbol              | \\begin{equation}\\epsilon_0\\end{equation}                       |\n",
       "| symbolic_expression | \\begin{equation}Ø\\end{equation}                                |\n",
       "| numerical           | 8.8541878128e-12                                               |\n",
       "| unit                | Symbol: \\begin{equation}Ø\\end{equation}                        |\n",
       "|                     | Symbolic Expression: \\begin{equation}\\frac{F}{m}\\end{equation} |"
      ],
      "text/plain": [
       "Constant                         name name_expression     numerical  \\\n",
       "Constant  permittivity_vaccum                  8.854188e-12   \n",
       "\n",
       "                                            symbol  \\\n",
       "Constant  \\begin{equation}\\epsilon_0\\end{equation}   \n",
       "\n",
       "                      symbolic_expression  \\\n",
       "Constant  \\begin{equation}Ø\\end{equation}   \n",
       "\n",
       "                                                       unit  \n",
       "Constant  Symbol: \\begin{equation}Ø\\end{equation}\\nSymbo...  "
      ]
     },
     "execution_count": 9,
     "metadata": {},
     "output_type": "execute_result"
    }
   ],
   "source": [
    "e_0 = nsy.Constant(\n",
    "    name=\"permittivity_vaccum\",\n",
    "    symbol= \"\\epsilon_0\",\n",
    "    numerical=8.8541878128e-12,\n",
    "    unit=farad_per_meter\n",
    ")\n",
    "e_0"
   ]
  },
  {
   "cell_type": "code",
   "execution_count": 10,
   "metadata": {},
   "outputs": [
    {
     "data": {
      "text/latex": [
       "$\\displaystyle \\epsilon_0$"
      ],
      "text/plain": [
       "\\epsilon_0"
      ]
     },
     "execution_count": 10,
     "metadata": {},
     "output_type": "execute_result"
    }
   ],
   "source": [
    "e_0.s"
   ]
  },
  {
   "cell_type": "code",
   "execution_count": 11,
   "metadata": {},
   "outputs": [
    {
     "data": {
      "text/plain": [
       "8.8541878128e-12"
      ]
     },
     "execution_count": 11,
     "metadata": {},
     "output_type": "execute_result"
    }
   ],
   "source": [
    "e_0.n"
   ]
  },
  {
   "cell_type": "code",
   "execution_count": 12,
   "metadata": {},
   "outputs": [
    {
     "data": {
      "text/markdown": [
       "|                     | Constant                                             |\n",
       "|:--------------------|:-----------------------------------------------------|\n",
       "| name                | dielectric_permittivity                              |\n",
       "| symbol              | \\begin{equation}\\epsilon_d\\end{equation}             |\n",
       "| symbolic_expression | \\begin{equation}Ø\\end{equation}                      |\n",
       "| numerical           | 5                                                    |\n",
       "| unit                | Symbol: \\begin{equation}\\end{equation}               |\n",
       "|                     | Symbolic Expression: \\begin{equation}Ø\\end{equation} |"
      ],
      "text/plain": [
       "Constant                             name name_expression  numerical  \\\n",
       "Constant  dielectric_permittivity                          5   \n",
       "\n",
       "                                            symbol  \\\n",
       "Constant  \\begin{equation}\\epsilon_d\\end{equation}   \n",
       "\n",
       "                      symbolic_expression  \\\n",
       "Constant  \\begin{equation}Ø\\end{equation}   \n",
       "\n",
       "                                                       unit  \n",
       "Constant  Symbol: \\begin{equation}\\end{equation}\\nSymbol...  "
      ]
     },
     "execution_count": 12,
     "metadata": {},
     "output_type": "execute_result"
    }
   ],
   "source": [
    "e_d = nsy.Constant(\n",
    "    name=\"dielectric_permittivity\",\n",
    "    symbol= \"\\epsilon_d\",\n",
    "    numerical=5,\n",
    "    unit=nsy.u.ratio\n",
    ")\n",
    "e_d"
   ]
  },
  {
   "cell_type": "markdown",
   "metadata": {},
   "source": [
    "#### Constants cannot be mutated"
   ]
  },
  {
   "cell_type": "code",
   "execution_count": 13,
   "metadata": {},
   "outputs": [
    {
     "name": "stdout",
     "output_type": "stream",
     "text": [
      "Constant cannot be mutated. You cannot set any attribute value. Instantiate a new variable.\n"
     ]
    }
   ],
   "source": [
    "e_d.n = 10"
   ]
  },
  {
   "cell_type": "markdown",
   "metadata": {},
   "source": [
    "## Variable"
   ]
  },
  {
   "cell_type": "code",
   "execution_count": 14,
   "metadata": {},
   "outputs": [
    {
     "data": {
      "text/markdown": [
       "|                     | Variable                                             |\n",
       "|:--------------------|:-----------------------------------------------------|\n",
       "| name                | capacitor_plate_separation                           |\n",
       "| symbol              | \\begin{equation}d\\end{equation}                      |\n",
       "| symbolic_expression | \\begin{equation}Ø\\end{equation}                      |\n",
       "| numerical           |                                                      |\n",
       "| unit                | Symbol: \\begin{equation}m\\end{equation}              |\n",
       "|                     | Symbolic Expression: \\begin{equation}Ø\\end{equation} |"
      ],
      "text/plain": [
       "Variable                                name name_expression numerical  \\\n",
       "Variable  capacitor_plate_separation                      None   \n",
       "\n",
       "                                   symbol              symbolic_expression  \\\n",
       "Variable  \\begin{equation}d\\end{equation}  \\begin{equation}Ø\\end{equation}   \n",
       "\n",
       "                                                       unit  \n",
       "Variable  Symbol: \\begin{equation}m\\end{equation}\\nSymbo...  "
      ]
     },
     "execution_count": 14,
     "metadata": {},
     "output_type": "execute_result"
    }
   ],
   "source": [
    "capacitor_plate_separation = nsy.Variable(\n",
    "    name=\"capacitor_plate_separation\",\n",
    "    symbol= \"d\",\n",
    "    numerical=None,\n",
    "    unit=nsy.u.meter\n",
    ")\n",
    "capacitor_plate_separation"
   ]
  },
  {
   "cell_type": "code",
   "execution_count": 15,
   "metadata": {},
   "outputs": [
    {
     "data": {
      "text/latex": [
       "$\\displaystyle d$"
      ],
      "text/plain": [
       "d"
      ]
     },
     "execution_count": 15,
     "metadata": {},
     "output_type": "execute_result"
    }
   ],
   "source": [
    "capacitor_plate_separation.s"
   ]
  },
  {
   "cell_type": "code",
   "execution_count": 16,
   "metadata": {},
   "outputs": [
    {
     "data": {
      "text/markdown": [
       "|                     | Unit                            |\n",
       "|:--------------------|:--------------------------------|\n",
       "| name                | meter                           |\n",
       "| symbol              | \\begin{equation}m\\end{equation} |\n",
       "| symbolic_expression | \\begin{equation}Ø\\end{equation} |"
      ],
      "text/plain": [
       "Unit       name name_expression                           symbol  \\\n",
       "Unit  meter       undefined  \\begin{equation}m\\end{equation}   \n",
       "\n",
       "                  symbolic_expression  \n",
       "Unit  \\begin{equation}Ø\\end{equation}  "
      ]
     },
     "execution_count": 16,
     "metadata": {},
     "output_type": "execute_result"
    }
   ],
   "source": [
    "capacitor_plate_separation.u"
   ]
  },
  {
   "cell_type": "markdown",
   "metadata": {},
   "source": [
    "#### Variables can be mutated"
   ]
  },
  {
   "cell_type": "code",
   "execution_count": 17,
   "metadata": {},
   "outputs": [
    {
     "data": {
      "text/plain": [
       "1e-06"
      ]
     },
     "execution_count": 17,
     "metadata": {},
     "output_type": "execute_result"
    }
   ],
   "source": [
    "capacitor_plate_separation.n = 1e-6\n",
    "capacitor_plate_separation.n"
   ]
  },
  {
   "cell_type": "code",
   "execution_count": 18,
   "metadata": {},
   "outputs": [
    {
     "data": {
      "text/plain": [
       "3e-05"
      ]
     },
     "execution_count": 18,
     "metadata": {},
     "output_type": "execute_result"
    }
   ],
   "source": [
    "capacitor_plate_separation.numerical = 3e-5\n",
    "capacitor_plate_separation.numerical"
   ]
  },
  {
   "cell_type": "markdown",
   "metadata": {},
   "source": [
    "#### Operate between Value objects\n",
    "Constants and Variables are value objects."
   ]
  },
  {
   "cell_type": "code",
   "execution_count": 19,
   "metadata": {},
   "outputs": [
    {
     "data": {
      "text/markdown": [
       "|                     | Value                                                         |\n",
       "|:--------------------|:--------------------------------------------------------------|\n",
       "| name                |                                                               |\n",
       "| symbol              | \\begin{equation}Ø\\end{equation}                               |\n",
       "| symbolic_expression | \\begin{equation}\\frac{\\epsilon_d}{\\epsilon_0 d}\\end{equation} |\n",
       "| numerical           | 1.8823484456216984e+16                                        |\n",
       "| unit                | Symbol: \\begin{equation}Ø\\end{equation}                       |\n",
       "|                     | Symbolic Expression: \\begin{equation}\\frac{}{F}\\end{equation} |"
      ],
      "text/plain": [
       "Value      name                                    name_expression     numerical  \\\n",
       "Value       (dielectric_permittivity)_per_((permittivity_v...  1.882348e+16   \n",
       "\n",
       "                                symbol  \\\n",
       "Value  \\begin{equation}Ø\\end{equation}   \n",
       "\n",
       "                                     symbolic_expression  \\\n",
       "Value  \\begin{equation}\\frac{\\epsilon_d}{\\epsilon_0 d...   \n",
       "\n",
       "                                                    unit  \n",
       "Value  Symbol: \\begin{equation}Ø\\end{equation}\\nSymbo...  "
      ]
     },
     "execution_count": 19,
     "metadata": {},
     "output_type": "execute_result"
    }
   ],
   "source": [
    "capacitance_per_plate_cross_sectional_area = e_d / (e_0 * capacitor_plate_separation)\n",
    "capacitance_per_plate_cross_sectional_area"
   ]
  },
  {
   "cell_type": "code",
   "execution_count": 20,
   "metadata": {},
   "outputs": [
    {
     "data": {
      "text/latex": [
       "$\\displaystyle \\frac{\\epsilon_d}{\\epsilon_0 d}$"
      ],
      "text/plain": [
       "\\epsilon_d/(\\epsilon_0*d)"
      ]
     },
     "execution_count": 20,
     "metadata": {},
     "output_type": "execute_result"
    }
   ],
   "source": [
    "capacitance_per_plate_cross_sectional_area.se"
   ]
  },
  {
   "cell_type": "code",
   "execution_count": 21,
   "metadata": {},
   "outputs": [
    {
     "data": {
      "text/plain": [
       "1.8823484456216984e+16"
      ]
     },
     "execution_count": 21,
     "metadata": {},
     "output_type": "execute_result"
    }
   ],
   "source": [
    "capacitance_per_plate_cross_sectional_area.n"
   ]
  },
  {
   "cell_type": "markdown",
   "metadata": {},
   "source": [
    "#### Perform Flexible Class Operations"
   ]
  },
  {
   "cell_type": "code",
   "execution_count": 22,
   "metadata": {},
   "outputs": [
    {
     "data": {
      "text/plain": [
       "1e-12"
      ]
     },
     "execution_count": 22,
     "metadata": {},
     "output_type": "execute_result"
    }
   ],
   "source": [
    "raw_capacitor_cross_sectional_area = (1e-6) ** 2\n",
    "raw_capacitor_cross_sectional_area"
   ]
  },
  {
   "cell_type": "code",
   "execution_count": 23,
   "metadata": {},
   "outputs": [
    {
     "data": {
      "text/markdown": [
       "|                     | Value                                                           |\n",
       "|:--------------------|:----------------------------------------------------------------|\n",
       "| name                |                                                                 |\n",
       "| symbol              | \\begin{equation}Ø\\end{equation}                                 |\n",
       "| symbolic_expression | \\begin{equation}\\frac{\\epsilon_d Ø}{\\epsilon_0 d}\\end{equation} |\n",
       "| numerical           | 18823.484456216982                                              |\n",
       "| unit                | Symbol: \\begin{equation}Ø\\end{equation}                         |\n",
       "|                     | Symbolic Expression: \\begin{equation}\\frac{Ø}{F}\\end{equation}  |"
      ],
      "text/plain": [
       "Value      name                                    name_expression     numerical  \\\n",
       "Value       ((dielectric_permittivity)_per_((permittivity_...  18823.484456   \n",
       "\n",
       "                                symbol  \\\n",
       "Value  \\begin{equation}Ø\\end{equation}   \n",
       "\n",
       "                                     symbolic_expression  \\\n",
       "Value  \\begin{equation}\\frac{\\epsilon_d Ø}{\\epsilon_0...   \n",
       "\n",
       "                                                    unit  \n",
       "Value  Symbol: \\begin{equation}Ø\\end{equation}\\nSymbo...  "
      ]
     },
     "execution_count": 23,
     "metadata": {},
     "output_type": "execute_result"
    }
   ],
   "source": [
    "device_capacitance = capacitance_per_plate_cross_sectional_area * raw_capacitor_cross_sectional_area\n",
    "device_capacitance"
   ]
  },
  {
   "cell_type": "code",
   "execution_count": 24,
   "metadata": {},
   "outputs": [
    {
     "data": {
      "text/plain": [
       "''"
      ]
     },
     "execution_count": 24,
     "metadata": {},
     "output_type": "execute_result"
    }
   ],
   "source": [
    "device_capacitance.name"
   ]
  },
  {
   "cell_type": "code",
   "execution_count": 25,
   "metadata": {},
   "outputs": [
    {
     "data": {
      "text/latex": [
       "$\\displaystyle \\frac{\\epsilon_d Ø}{\\epsilon_0 d}$"
      ],
      "text/plain": [
       "\\epsilon_d*Ø/(\\epsilon_0*d)"
      ]
     },
     "execution_count": 25,
     "metadata": {},
     "output_type": "execute_result"
    }
   ],
   "source": [
    "device_capacitance.se"
   ]
  },
  {
   "cell_type": "code",
   "execution_count": 26,
   "metadata": {},
   "outputs": [
    {
     "data": {
      "text/latex": [
       "$\\displaystyle F$"
      ],
      "text/plain": [
       "F"
      ]
     },
     "execution_count": 26,
     "metadata": {},
     "output_type": "execute_result"
    }
   ],
   "source": [
    "device_capacitance.symbol = \"F\"\n",
    "device_capacitance.symbol"
   ]
  },
  {
   "cell_type": "code",
   "execution_count": 27,
   "metadata": {},
   "outputs": [
    {
     "data": {
      "text/plain": [
       "1e-12"
      ]
     },
     "execution_count": 27,
     "metadata": {},
     "output_type": "execute_result"
    }
   ],
   "source": [
    "raw_capacitor_cross_sectional_area"
   ]
  },
  {
   "cell_type": "markdown",
   "metadata": {},
   "source": [
    "##### Example Functions"
   ]
  },
  {
   "cell_type": "code",
   "execution_count": 28,
   "metadata": {},
   "outputs": [
    {
     "data": {
      "text/markdown": [
       "|                     | Value                                                                 |\n",
       "|:--------------------|:----------------------------------------------------------------------|\n",
       "| name                |                                                                       |\n",
       "| symbol              | \\begin{equation}Ø\\end{equation}                                       |\n",
       "| symbolic_expression | \\begin{equation}\\sqrt{F}\\end{equation}                                |\n",
       "| numerical           | 137.19870428038664                                                    |\n",
       "| unit                | Symbol: \\begin{equation}Ø\\end{equation}                               |\n",
       "|                     | Symbolic Expression: \\begin{equation}\\sqrt{\\frac{Ø}{F}}\\end{equation} |"
      ],
      "text/plain": [
       "Value      name                                    name_expression   numerical  \\\n",
       "Value       square_root(((dielectric_permittivity)_per_((p...  137.198704   \n",
       "\n",
       "                                symbol  \\\n",
       "Value  \\begin{equation}Ø\\end{equation}   \n",
       "\n",
       "                          symbolic_expression  \\\n",
       "Value  \\begin{equation}\\sqrt{F}\\end{equation}   \n",
       "\n",
       "                                                    unit  \n",
       "Value  Symbol: \\begin{equation}Ø\\end{equation}\\nSymbo...  "
      ]
     },
     "execution_count": 28,
     "metadata": {},
     "output_type": "execute_result"
    }
   ],
   "source": [
    "nsy.sqrt(device_capacitance)"
   ]
  },
  {
   "cell_type": "code",
   "execution_count": 29,
   "metadata": {},
   "outputs": [
    {
     "name": "stderr",
     "output_type": "stream",
     "text": [
      "/Users/daquintero/Documents/numpsy/numpsy/functions.py:53: RuntimeWarning: overflow encountered in sinh\n",
      "  new.numerical = np.sinh(instance_parameters[\"numerical\"])\n"
     ]
    },
    {
     "data": {
      "text/markdown": [
       "|                     | Value                                                                 |\n",
       "|:--------------------|:----------------------------------------------------------------------|\n",
       "| name                |                                                                       |\n",
       "| symbol              | \\begin{equation}Ø\\end{equation}                                       |\n",
       "| symbolic_expression | \\begin{equation}\\sinh{\\left(F \\right)}\\end{equation}                  |\n",
       "| numerical           | inf                                                                   |\n",
       "| unit                | Symbol: \\begin{equation}Ø\\end{equation}                               |\n",
       "|                     | Symbolic Expression: \\begin{equation}\\sqrt{\\frac{Ø}{F}}\\end{equation} |"
      ],
      "text/plain": [
       "Value      name                                    name_expression  numerical  \\\n",
       "Value       sinh(((dielectric_permittivity)_per_((permitti...        inf   \n",
       "\n",
       "                                symbol  \\\n",
       "Value  \\begin{equation}Ø\\end{equation}   \n",
       "\n",
       "                                     symbolic_expression  \\\n",
       "Value  \\begin{equation}\\sinh{\\left(F \\right)}\\end{equ...   \n",
       "\n",
       "                                                    unit  \n",
       "Value  Symbol: \\begin{equation}Ø\\end{equation}\\nSymbo...  "
      ]
     },
     "execution_count": 29,
     "metadata": {},
     "output_type": "execute_result"
    }
   ],
   "source": [
    "nsy.sinh(device_capacitance)"
   ]
  }
 ],
 "metadata": {
  "kernelspec": {
   "display_name": "Python 3",
   "language": "python",
   "name": "python3"
  },
  "language_info": {
   "codemirror_mode": {
    "name": "ipython",
    "version": 3
   },
   "file_extension": ".py",
   "mimetype": "text/x-python",
   "name": "python",
   "nbconvert_exporter": "python",
   "pygments_lexer": "ipython3",
   "version": "3.8.3"
  }
 },
 "nbformat": 4,
 "nbformat_minor": 4
}
