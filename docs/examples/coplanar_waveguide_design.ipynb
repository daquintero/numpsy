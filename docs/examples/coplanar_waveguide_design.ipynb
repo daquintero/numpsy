{
 "cells": [
  {
   "cell_type": "code",
   "execution_count": 1,
   "metadata": {},
   "outputs": [],
   "source": [
    "import numpsy as nsy\n",
    "import scipy as sp\n",
    "import scipy.special"
   ]
  },
  {
   "cell_type": "markdown",
   "metadata": {},
   "source": [
    "##### Define Design Parameters"
   ]
  },
  {
   "cell_type": "code",
   "execution_count": 2,
   "metadata": {},
   "outputs": [
    {
     "data": {
      "text/plain": [
       "<Variable name:\"load_impedance\" name_expression:\"\" symbol:\"Z_l\" symbolic_expression:\"\" numerical:\"[]\" unit:\"<Unit name:\"ohm\" symbol:\"\\Omega\" symbolic_expression:\"Ø\">\">"
      ]
     },
     "execution_count": 2,
     "metadata": {},
     "output_type": "execute_result"
    }
   ],
   "source": [
    "z_l = nsy.Variable(\n",
    "    name=\"load_impedance\",\n",
    "    symbol=\"Z_l\",\n",
    "    unit=nsy.u.ohm)\n",
    "z_l"
   ]
  },
  {
   "cell_type": "code",
   "execution_count": 3,
   "metadata": {},
   "outputs": [
    {
     "data": {
      "text/plain": [
       "<Variable name:\"operating_frequency\" name_expression:\"\" symbol:\"f_0\" symbolic_expression:\"\" numerical:\"[]\" unit:\"<Unit name:\"Hertz\" symbol:\"Hz\" symbolic_expression:\"Ø\">\">"
      ]
     },
     "execution_count": 3,
     "metadata": {},
     "output_type": "execute_result"
    }
   ],
   "source": [
    "f_0 = nsy.Variable(\n",
    "    name=\"operating_frequency\",\n",
    "    symbol=\"f_0\",\n",
    "    unit=nsy.u.Hertz)\n",
    "f_0"
   ]
  },
  {
   "cell_type": "code",
   "execution_count": 4,
   "metadata": {},
   "outputs": [
    {
     "data": {
      "text/plain": [
       "<Variable name:\"input_impedance_quarter_wavelength\" name_expression:\"\" symbol:\"Z_{in, \\lambda/4}\" symbolic_expression:\"\" numerical:\"[]\" unit:\"<Unit name:\"ohm\" symbol:\"\\Omega\" symbolic_expression:\"Ø\">\">"
      ]
     },
     "execution_count": 4,
     "metadata": {},
     "output_type": "execute_result"
    }
   ],
   "source": [
    "z_in_lambda_4 = nsy.Variable(\n",
    "    name=\"input_impedance_quarter_wavelength\",\n",
    "    symbol=\"Z_{in, \\lambda/4}\",\n",
    "    unit=nsy.u.ohm)\n",
    "z_in_lambda_4"
   ]
  },
  {
   "cell_type": "markdown",
   "metadata": {},
   "source": [
    "##### Define Operational Parameters\n",
    "Inputting numerical parameters is easy.\n",
    "\n",
    "Note commercial digital logic gates can operate up to 14 GHz (common) and 28 GHz (high-end) from Analog Devices so we might want to design below this to test with these CPWs\n",
    "* https://www.analog.com/en/products/high-speed-logic/logic-devices/logic-gates.html"
   ]
  },
  {
   "cell_type": "markdown",
   "metadata": {},
   "source": [
    "We need to do L2L dembedding, whilst substracting 10um (connector) + 40 um pad center radius, so 50um on either pad side * 2 in order to design the effective CPW length. We then need the 1x length dembedding and ideally use exactly this length with a known terminator. So three experiments per waveguide design, potentially around 10GHz and 25 GHz. And a crazy fast one if there's space half the smallest one."
   ]
  },
  {
   "cell_type": "code",
   "execution_count": 5,
   "metadata": {},
   "outputs": [],
   "source": [
    "z_l.n = 50\n",
    "z_in_lambda_4.n = 50\n",
    "f_0.n = 12e9 # GHz"
   ]
  },
  {
   "cell_type": "markdown",
   "metadata": {},
   "source": [
    "If we want to match the transmission line impedance to the load impedance, we need to use a quarter wavelength converter.\n",
    "\n",
    "See:\n",
    "* https://eng.libretexts.org/Bookshelves/Electrical_Engineering/Electro-Optics/Book%3A_Electromagnetics_I_%28Ellingson%29/03%3A_Transmission_Lines/3.19%3A_Quarter-Wavelength_Transmission_Line"
   ]
  },
  {
   "cell_type": "markdown",
   "metadata": {},
   "source": [
    "##### Define Design Relationships"
   ]
  },
  {
   "cell_type": "code",
   "execution_count": 6,
   "metadata": {},
   "outputs": [
    {
     "data": {
      "text/plain": [
       "<Variable name:\"transmission_line_characteristic_impedance\" name_expression:\"square_root((input_impedance_quarter_wavelength_times_load_impedance))\" symbol:\"Z_{o}\" symbolic_expression:\"sqrt()\" numerical:\"50.0\" unit:\"<Unit name:\"square_root((ohm_times_ohm))\" symbol:\"Ø\" symbolic_expression:\"sqrt(\\Omega**2)\">\">"
      ]
     },
     "execution_count": 6,
     "metadata": {},
     "output_type": "execute_result"
    }
   ],
   "source": [
    "z_o = nsy.sqrt(z_in_lambda_4 * z_l)\n",
    "z_o.name = \"transmission_line_characteristic_impedance\"\n",
    "z_o.s = \"Z_{o}\"\n",
    "z_o"
   ]
  },
  {
   "cell_type": "code",
   "execution_count": 7,
   "metadata": {},
   "outputs": [
    {
     "data": {
      "text/plain": [
       "50.0"
      ]
     },
     "execution_count": 7,
     "metadata": {},
     "output_type": "execute_result"
    }
   ],
   "source": [
    "z_o.n"
   ]
  },
  {
   "cell_type": "code",
   "execution_count": 8,
   "metadata": {},
   "outputs": [
    {
     "data": {
      "text/plain": [
       "<Constant name:\"speed_of_light\" name_expression:\"\" symbol:\"c\" symbolic_expression:\"\" numerical:\"299792458\" unit:\"<Unit name:\"(meter)_per_(second)\" symbol:\"Ø\" symbolic_expression:\"m/s\">\">"
      ]
     },
     "execution_count": 8,
     "metadata": {},
     "output_type": "execute_result"
    }
   ],
   "source": [
    "nsy.c.speed_of_light"
   ]
  },
  {
   "cell_type": "code",
   "execution_count": 9,
   "metadata": {},
   "outputs": [
    {
     "data": {
      "text/plain": [
       "0.024982704833333334"
      ]
     },
     "execution_count": 9,
     "metadata": {},
     "output_type": "execute_result"
    }
   ],
   "source": [
    "lambda_0 = nsy.c.speed_of_light / f_0\n",
    "lambda_0.name = \"operating_free_space_wavelength\"\n",
    "lambda_0.n"
   ]
  },
  {
   "cell_type": "code",
   "execution_count": 10,
   "metadata": {},
   "outputs": [],
   "source": [
    "e_r_0 = nsy.Variable(\n",
    "    name=\"silicon_dioxide_relative_permeability\",\n",
    "    numerical = 3.9,\n",
    "    symbol=\"v_f\",\n",
    ")"
   ]
  },
  {
   "cell_type": "code",
   "execution_count": 11,
   "metadata": {},
   "outputs": [
    {
     "data": {
      "text/plain": [
       "<Value name:\"signal_velocity_of_propagation\" name_expression:\"(1)_per_(square_root(silicon_dioxide_relative_permeability))\" symbol:\"v_f\" symbolic_expression:\"Ø/\" numerical:\"0.5063696835418333\" unit:\"<Unit name:\"(undefined)_per_(square_root(square_root((ohm_times_ohm))))\" symbol:\"Ø\" symbolic_expression:\"Ø/(\\Omega**2)**(1/4)\">\">"
      ]
     },
     "execution_count": 11,
     "metadata": {},
     "output_type": "execute_result"
    }
   ],
   "source": [
    "v_f = 1 / nsy.sqrt(e_r_0)\n",
    "v_f.name=\"signal_velocity_of_propagation\"\n",
    "v_f.symbol=\"v_f\"\n",
    "v_f"
   ]
  },
  {
   "cell_type": "code",
   "execution_count": 12,
   "metadata": {},
   "outputs": [
    {
     "data": {
      "text/plain": [
       "<Value name:\"signal_wavelength_line\" name_expression:\"(operating_free_space_wavelength_times_signal_velocity_of_propagation)\" symbol:\"\" symbolic_expression:\"*v_f\" numerical:\"0.012650484340474031\" unit:\"<Unit name:\"(((meter)_per_(second))_per_(Hertz)_times_(undefined)_per_(square_root(square_root((ohm_times_ohm)))))\" symbol:\"Ø\" symbolic_expression:\"m*Ø/(Hz*s*(\\Omega**2)**(1/4))\">\">"
      ]
     },
     "execution_count": 12,
     "metadata": {},
     "output_type": "execute_result"
    }
   ],
   "source": [
    "lambda_line = lambda_0 * v_f\n",
    "lambda_line.name = \"signal_wavelength_line\"\n",
    "lambda_line"
   ]
  },
  {
   "cell_type": "markdown",
   "metadata": {},
   "source": [
    "You can also operate on NumpSy classes with standard types"
   ]
  },
  {
   "cell_type": "code",
   "execution_count": 13,
   "metadata": {},
   "outputs": [
    {
     "data": {
      "text/plain": [
       "<Value name:\"quarter_wavelength_length\" name_expression:\"(signal_wavelength_line)_per_(4)\" symbol:\"\" symbolic_expression:\"/Ø\" numerical:\"0.0031626210851185077\" unit:\"<Unit name:\"((((meter)_per_(second))_per_(Hertz)_times_(undefined)_per_(square_root(square_root((ohm_times_ohm))))))_per_(undefined)\" symbol:\"Ø\" symbolic_expression:\"m/(Hz*s*(\\Omega**2)**(1/4))\">\">"
      ]
     },
     "execution_count": 13,
     "metadata": {},
     "output_type": "execute_result"
    }
   ],
   "source": [
    "lambda_4 = lambda_line / 4\n",
    "lambda_4.name = \"quarter_wavelength_length\"\n",
    "lambda_4"
   ]
  },
  {
   "cell_type": "code",
   "execution_count": 14,
   "metadata": {},
   "outputs": [
    {
     "data": {
      "text/plain": [
       "3162.621085118508"
      ]
     },
     "execution_count": 14,
     "metadata": {},
     "output_type": "execute_result"
    }
   ],
   "source": [
    "lambda_4.n * 1e6"
   ]
  },
  {
   "cell_type": "code",
   "execution_count": 15,
   "metadata": {},
   "outputs": [
    {
     "data": {
      "text/plain": [
       "50.0"
      ]
     },
     "execution_count": 15,
     "metadata": {},
     "output_type": "execute_result"
    }
   ],
   "source": [
    "z_o.n"
   ]
  },
  {
   "cell_type": "markdown",
   "metadata": {},
   "source": [
    "##### Describe independent spatial properties of the waveguide"
   ]
  },
  {
   "cell_type": "code",
   "execution_count": 16,
   "metadata": {},
   "outputs": [
    {
     "data": {
      "text/plain": [
       "<Variable name:\"signal_width\" name_expression:\"\" symbol:\"s\" symbolic_expression:\"\" numerical:\"[]\" unit:\"<Unit name:\"meter\" symbol:\"m\" symbolic_expression:\"Ø\">\">"
      ]
     },
     "execution_count": 16,
     "metadata": {},
     "output_type": "execute_result"
    }
   ],
   "source": [
    "s = nsy.Variable(\n",
    "    name=\"signal_width\",\n",
    "    symbol=\"s\",\n",
    "    unit=nsy.u.meter)\n",
    "s"
   ]
  },
  {
   "cell_type": "code",
   "execution_count": 17,
   "metadata": {},
   "outputs": [
    {
     "data": {
      "text/plain": [
       "<Variable name:\"gap_width\" name_expression:\"\" symbol:\"w\" symbolic_expression:\"\" numerical:\"[]\" unit:\"<Unit name:\"meter\" symbol:\"m\" symbolic_expression:\"Ø\">\">"
      ]
     },
     "execution_count": 17,
     "metadata": {},
     "output_type": "execute_result"
    }
   ],
   "source": [
    "w = nsy.Variable(\n",
    "    name=\"gap_width\",\n",
    "    symbol=\"w\",\n",
    "    unit=nsy.u.meter)\n",
    "w"
   ]
  },
  {
   "cell_type": "code",
   "execution_count": 31,
   "metadata": {},
   "outputs": [],
   "source": [
    "s.n = 23e-6\n",
    "w.n = 7e-6"
   ]
  },
  {
   "cell_type": "code",
   "execution_count": 19,
   "metadata": {},
   "outputs": [],
   "source": [
    "g = 2 * s\n",
    "g.name = \"ground_width\""
   ]
  },
  {
   "cell_type": "code",
   "execution_count": 50,
   "metadata": {},
   "outputs": [
    {
     "data": {
      "text/plain": [
       "<Value name:\"\" name_expression:\"(signal_width)_per_((signal_width_plus_(2_times_gap_width)))\" symbol:\"\" symbolic_expression:\"s/\" numerical:\"0.6216216216216216\" unit:\"<Unit name:\"(meter)_per_((meter_plus_(undefined_times_meter)))\" symbol:\"Ø\" symbolic_expression:\"m/(m*Ø + m)\">\">"
      ]
     },
     "execution_count": 50,
     "metadata": {},
     "output_type": "execute_result"
    }
   ],
   "source": [
    "k_0_infinite = k_4_infinite = k_3_infinite = s / (s + 2 * w)\n",
    "k_0_infinite_dash = nsy.sqrt(1 - k_0_infinite ** 2)\n",
    "k_0_infinite"
   ]
  },
  {
   "cell_type": "markdown",
   "metadata": {},
   "source": [
    "#### Infinite Ground Width"
   ]
  },
  {
   "cell_type": "markdown",
   "metadata": {},
   "source": [
    "Matches coplanar waveguide calculator"
   ]
  },
  {
   "cell_type": "code",
   "execution_count": 73,
   "metadata": {},
   "outputs": [
    {
     "data": {
      "text/plain": [
       "8.8541878128e-12"
      ]
     },
     "execution_count": 73,
     "metadata": {},
     "output_type": "execute_result"
    }
   ],
   "source": [
    "e_0 = nsy.c.permittivity_vaccum\n",
    "e_0.n"
   ]
  },
  {
   "cell_type": "code",
   "execution_count": 91,
   "metadata": {},
   "outputs": [
    {
     "data": {
      "text/plain": [
       "3.1473827704698165e-11"
      ]
     },
     "execution_count": 91,
     "metadata": {},
     "output_type": "execute_result"
    }
   ],
   "source": [
    "C_air = 4 * e_0 * nsy.complete_elliptical_integral_first_kind(k_0_infinite) / nsy.complete_elliptical_integral_first_kind(k_0_infinite_dash)\n",
    "C_air.n"
   ]
  },
  {
   "cell_type": "code",
   "execution_count": 92,
   "metadata": {},
   "outputs": [
    {
     "data": {
      "text/plain": [
       "7.71108778765105e-11"
      ]
     },
     "execution_count": 92,
     "metadata": {},
     "output_type": "execute_result"
    }
   ],
   "source": [
    "C_cpw_infinite = 2 * e_0 * (e_r_0 + 1)* nsy.complete_elliptical_integral_first_kind(k_0_infinite) / nsy.complete_elliptical_integral_first_kind(k_0_infinite_dash)\n",
    "C_cpw_infinite.n"
   ]
  },
  {
   "cell_type": "code",
   "execution_count": 93,
   "metadata": {},
   "outputs": [
    {
     "data": {
      "text/plain": [
       "2.45"
      ]
     },
     "execution_count": 93,
     "metadata": {},
     "output_type": "execute_result"
    }
   ],
   "source": [
    "e_r_1 = e_r_0\n",
    "e_eff_infinite = (1 + e_r_1) / 2\n",
    "e_eff_infinite.n"
   ]
  },
  {
   "cell_type": "code",
   "execution_count": 94,
   "metadata": {},
   "outputs": [
    {
     "data": {
      "text/plain": [
       "191530375.77992874"
      ]
     },
     "execution_count": 94,
     "metadata": {},
     "output_type": "execute_result"
    }
   ],
   "source": [
    "v_phase_infinite = nsy.c.speed_of_light / nsy.sqrt(e_eff_infinite)\n",
    "v_phase_infinite.n"
   ]
  },
  {
   "cell_type": "code",
   "execution_count": 98,
   "metadata": {},
   "outputs": [
    {
     "data": {
      "text/plain": [
       "2.4499999999999997"
      ]
     },
     "execution_count": 98,
     "metadata": {},
     "output_type": "execute_result"
    }
   ],
   "source": [
    "# Verification of eff\n",
    "(C_cpw_infinite / C_air).n"
   ]
  },
  {
   "cell_type": "code",
   "execution_count": 96,
   "metadata": {},
   "outputs": [
    {
     "data": {
      "text/plain": [
       "67.7559195031196"
      ]
     },
     "execution_count": 96,
     "metadata": {},
     "output_type": "execute_result"
    }
   ],
   "source": [
    "z_0_infinite = 30 * nsy.c.pi * nsy.complete_elliptical_integral_first_kind(k_0_infinite_dash) \\\n",
    "                / (nsy.sqrt(e_eff_infinite) * nsy.complete_elliptical_integral_first_kind(k_0_infinite))\n",
    "z_0_infinite.n"
   ]
  },
  {
   "cell_type": "code",
   "execution_count": 97,
   "metadata": {},
   "outputs": [
    {
     "data": {
      "text/plain": [
       "67.7559195031196"
      ]
     },
     "execution_count": 97,
     "metadata": {},
     "output_type": "execute_result"
    }
   ],
   "source": [
    "67.7559195031196"
   ]
  },
  {
   "cell_type": "markdown",
   "metadata": {},
   "source": [
    "#### Finite Ground Width"
   ]
  },
  {
   "cell_type": "code",
   "execution_count": 32,
   "metadata": {},
   "outputs": [
    {
     "data": {
      "text/plain": [
       "1.15e-05"
      ]
     },
     "execution_count": 32,
     "metadata": {},
     "output_type": "execute_result"
    }
   ],
   "source": [
    "a = s / 2\n",
    "a.n"
   ]
  },
  {
   "cell_type": "code",
   "execution_count": 33,
   "metadata": {},
   "outputs": [
    {
     "data": {
      "text/plain": [
       "1.85e-05"
      ]
     },
     "execution_count": 33,
     "metadata": {},
     "output_type": "execute_result"
    }
   ],
   "source": [
    "b = a + w\n",
    "b.n"
   ]
  },
  {
   "cell_type": "code",
   "execution_count": 34,
   "metadata": {},
   "outputs": [
    {
     "data": {
      "text/plain": [
       "6.45e-05"
      ]
     },
     "execution_count": 34,
     "metadata": {},
     "output_type": "execute_result"
    }
   ],
   "source": [
    "c = b + g\n",
    "c.n"
   ]
  },
  {
   "cell_type": "code",
   "execution_count": 42,
   "metadata": {},
   "outputs": [],
   "source": [
    "k = c * nsy.sqrt(((b**2) - (a**2)) / (c**2 - a**2)) / b\n",
    "k_dash = nsy.sqrt(1 - k**2)"
   ]
  },
  {
   "cell_type": "code",
   "execution_count": 46,
   "metadata": {},
   "outputs": [
    {
     "data": {
      "text/latex": [
       "$\\displaystyle 1$"
      ],
      "text/plain": [
       "1"
      ]
     },
     "execution_count": 46,
     "metadata": {},
     "output_type": "execute_result"
    }
   ],
   "source": [
    "k.se"
   ]
  },
  {
   "cell_type": "markdown",
   "metadata": {},
   "source": [
    "#### Create a function"
   ]
  },
  {
   "cell_type": "code",
   "execution_count": 40,
   "metadata": {},
   "outputs": [
    {
     "data": {
      "text/plain": [
       "2.2483747815476565"
      ]
     },
     "execution_count": 40,
     "metadata": {},
     "output_type": "execute_result"
    }
   ],
   "source": [
    "K_k = nsy.complete_elliptical_integral_first_kind(k)\n",
    "K_k_dash =  nsy.complete_elliptical_integral_first_kind(k_dash)\n",
    "K_k.n"
   ]
  },
  {
   "cell_type": "code",
   "execution_count": 99,
   "metadata": {},
   "outputs": [
    {
     "data": {
      "text/plain": [
       "<Value name:\"capacitace_abscence_all_dialectrics\" name_expression:\"(((4_times_permittivity_vaccum)_times_complete_elliptical_integral_first_kind(square_root((1_minus_((((((signal_width)_per_(2)_plus_gap_width)_plus_ground_width)_times_square_root((((((signal_width)_per_(2)_plus_gap_width)_power_2)_minus_((signal_width)_per_(2)_power_2)))_per_((((((signal_width)_per_(2)_plus_gap_width)_plus_ground_width)_power_2)_minus_((signal_width)_per_(2)_power_2))))))_per_(((signal_width)_per_(2)_plus_gap_width))_power_2))))))_per_(complete_elliptical_integral_first_kind((((((signal_width)_per_(2)_plus_gap_width)_plus_ground_width)_times_square_root((((((signal_width)_per_(2)_plus_gap_width)_power_2)_minus_((signal_width)_per_(2)_power_2)))_per_((((((signal_width)_per_(2)_plus_gap_width)_plus_ground_width)_power_2)_minus_((signal_width)_per_(2)_power_2))))))_per_(((signal_width)_per_(2)_plus_gap_width))))\" symbol:\"\" symbolic_expression:\"1\" numerical:\"3.079903458118599e-11\" unit:\"<Unit name:\"(((undefined_times_(Farad)_per_(meter))_times_K((meter)_per_((meter_plus_(undefined_times_meter))))))_per_(K((meter)_per_((meter_plus_(undefined_times_meter)))))\" symbol:\"Ø\" symbolic_expression:\"F*Ø/m\">\">"
      ]
     },
     "execution_count": 99,
     "metadata": {},
     "output_type": "execute_result"
    }
   ],
   "source": [
    "C_0 = 4 * e_0 *  K_k_dash / K_k\n",
    "C_0.name = \"capacitace_abscence_all_dialectrics\"\n",
    "C_0"
   ]
  },
  {
   "cell_type": "code",
   "execution_count": 100,
   "metadata": {},
   "outputs": [
    {
     "data": {
      "text/plain": [
       "3.079903458118599e-11"
      ]
     },
     "execution_count": 100,
     "metadata": {},
     "output_type": "execute_result"
    }
   ],
   "source": [
    "C_0.n"
   ]
  },
  {
   "cell_type": "code",
   "execution_count": 101,
   "metadata": {},
   "outputs": [
    {
     "data": {
      "text/plain": [
       "<Variable name:\"cpw_bottom_diaelectric_thickness\" name_expression:\"\" symbol:\"h_5\" symbolic_expression:\"\" numerical:\"0.00075\" unit:\"<Unit name:\"meter\" symbol:\"m\" symbolic_expression:\"Ø\">\">"
      ]
     },
     "execution_count": 101,
     "metadata": {},
     "output_type": "execute_result"
    }
   ],
   "source": [
    "h_5 =  nsy.Variable(\n",
    "    name=\"cpw_bottom_diaelectric_thickness\",\n",
    "    symbol=\"h_5\",\n",
    "    unit=nsy.u.meter)\n",
    "h_5.n = 750e-6\n",
    "h_5"
   ]
  },
  {
   "cell_type": "code",
   "execution_count": 102,
   "metadata": {},
   "outputs": [
    {
     "data": {
      "text/plain": [
       "<Value name:\"\" name_expression:\"((sinh(((pi_times_(((signal_width)_per_(2)_plus_gap_width)_plus_ground_width)))_per_((2_times_cpw_bottom_diaelectric_thickness)))_times_square_root((((sinh(((pi_times_((signal_width)_per_(2)_plus_gap_width)))_per_((2_times_cpw_bottom_diaelectric_thickness)))_power_2)_minus_(sinh(((pi_times_(signal_width)_per_(2)))_per_((2_times_cpw_bottom_diaelectric_thickness)))_power_2)))_per_(((sinh(((pi_times_(((signal_width)_per_(2)_plus_gap_width)_plus_ground_width)))_per_((2_times_cpw_bottom_diaelectric_thickness)))_power_2)_minus_(sinh(((pi_times_(signal_width)_per_(2)))_per_((2_times_cpw_bottom_diaelectric_thickness)))_power_2))))))_per_(sinh(((pi_times_((signal_width)_per_(2)_plus_gap_width)))_per_((2_times_cpw_bottom_diaelectric_thickness))))\" symbol:\"\" symbolic_expression:\"1\" numerical:\"0.7960732720702351\" unit:\"<Unit name:\"((square_root((((K((meter)_per_((meter_plus_(undefined_times_meter))))_power_undefined)_minus_(K((meter)_per_((meter_plus_(undefined_times_meter))))_power_undefined)))_per_(((K((meter)_per_((meter_plus_(undefined_times_meter))))_power_undefined)_minus_(K((meter)_per_((meter_plus_(undefined_times_meter))))_power_undefined))))_times_square_root((((K((meter)_per_((meter_plus_(undefined_times_meter))))_power_undefined)_minus_(K((meter)_per_((meter_plus_(undefined_times_meter))))_power_undefined)))_per_(((K((meter)_per_((meter_plus_(undefined_times_meter))))_power_undefined)_minus_(K((meter)_per_((meter_plus_(undefined_times_meter))))_power_undefined))))))_per_(square_root((((K((meter)_per_((meter_plus_(undefined_times_meter))))_power_undefined)_minus_(K((meter)_per_((meter_plus_(undefined_times_meter))))_power_undefined)))_per_(((K((meter)_per_((meter_plus_(undefined_times_meter))))_power_undefined)_minus_(K((meter)_per_((meter_plus_(undefined_times_meter))))_power_undefined)))))\" symbol:\"Ø\" symbolic_expression:\"nan\">\">"
      ]
     },
     "execution_count": 102,
     "metadata": {},
     "output_type": "execute_result"
    }
   ],
   "source": [
    "k_5_sinh_a = nsy.sinh(nsy.c.pi * a /  (2 * h_5))\n",
    "k_5_sinh_b = nsy.sinh(nsy.c.pi * b /  (2 * h_5))\n",
    "k_5_sinh_c = nsy.sinh(nsy.c.pi * c /  (2 * h_5))\n",
    "k_5 = k_5_sinh_c * nsy.sqrt((k_5_sinh_b**2 - k_5_sinh_a**2) / (k_5_sinh_c**2 - k_5_sinh_a**2)) / k_5_sinh_b\n",
    "k_5_dash = nsy.sqrt(1 - k_5**2)\n",
    "k_5"
   ]
  },
  {
   "cell_type": "code",
   "execution_count": 103,
   "metadata": {},
   "outputs": [],
   "source": [
    "K_k_5 = nsy.complete_elliptical_integral_first_kind(k_5)\n",
    "K_k_5_dash =  nsy.complete_elliptical_integral_first_kind(k_5_dash)"
   ]
  },
  {
   "cell_type": "code",
   "execution_count": 104,
   "metadata": {},
   "outputs": [
    {
     "data": {
      "text/plain": [
       "2.449999356433492"
      ]
     },
     "execution_count": 104,
     "metadata": {},
     "output_type": "execute_result"
    }
   ],
   "source": [
    "e_r_5 = e_r_0\n",
    "e_eff_cpw = 1 + (e_r_5 - 1) * (K_k / K_k_dash) * (K_k_5_dash / K_k_5) / 2\n",
    "e_eff_cpw.n"
   ]
  },
  {
   "cell_type": "code",
   "execution_count": 105,
   "metadata": {},
   "outputs": [
    {
     "data": {
      "text/plain": [
       "191530400.9355531"
      ]
     },
     "execution_count": 105,
     "metadata": {},
     "output_type": "execute_result"
    }
   ],
   "source": [
    "v_phase = nsy.c.speed_of_light / nsy.sqrt(e_eff_cpw)\n",
    "v_phase.n"
   ]
  },
  {
   "cell_type": "code",
   "execution_count": 106,
   "metadata": {},
   "outputs": [
    {
     "data": {
      "text/plain": [
       "7.545761490267853e-11"
      ]
     },
     "execution_count": 106,
     "metadata": {},
     "output_type": "execute_result"
    }
   ],
   "source": [
    "C = C_0 * e_eff_cpw\n",
    "C.n"
   ]
  },
  {
   "cell_type": "code",
   "execution_count": 110,
   "metadata": {},
   "outputs": [
    {
     "data": {
      "text/plain": [
       "69.19252964737217"
      ]
     },
     "execution_count": 110,
     "metadata": {},
     "output_type": "execute_result"
    }
   ],
   "source": [
    "z_0_cpw = 1 / (C * v_phase)\n",
    "z_0_cpw.name = \"finite_ground_line_characteristic_impedance\"\n",
    "z_0_cpw.n"
   ]
  },
  {
   "cell_type": "code",
   "execution_count": 108,
   "metadata": {},
   "outputs": [
    {
     "data": {
      "text/latex": [
       "$\\displaystyle \\frac{Ø}{}$"
      ],
      "text/plain": [
       "Ø/"
      ]
     },
     "execution_count": 108,
     "metadata": {},
     "output_type": "execute_result"
    }
   ],
   "source": [
    "z_0_cpw.se"
   ]
  },
  {
   "cell_type": "raw",
   "metadata": {},
   "source": [
    "import sympy as sy\n",
    "sy.Symbol(\"\\pi\")"
   ]
  },
  {
   "cell_type": "code",
   "execution_count": null,
   "metadata": {},
   "outputs": [],
   "source": []
  }
 ],
 "metadata": {
  "kernelspec": {
   "display_name": "Python 3",
   "language": "python",
   "name": "python3"
  },
  "language_info": {
   "codemirror_mode": {
    "name": "ipython",
    "version": 3
   },
   "file_extension": ".py",
   "mimetype": "text/x-python",
   "name": "python",
   "nbconvert_exporter": "python",
   "pygments_lexer": "ipython3",
   "version": "3.8.3"
  }
 },
 "nbformat": 4,
 "nbformat_minor": 4
}
