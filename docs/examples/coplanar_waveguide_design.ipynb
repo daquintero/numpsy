{
 "cells": [
  {
   "cell_type": "code",
   "execution_count": 1,
   "metadata": {},
   "outputs": [],
   "source": [
    "import numpsy as nsy\n",
    "import sympy as sy"
   ]
  },
  {
   "cell_type": "markdown",
   "metadata": {},
   "source": [
    "##### Define Design Parameters"
   ]
  },
  {
   "cell_type": "code",
   "execution_count": 2,
   "metadata": {},
   "outputs": [
    {
     "data": {
      "text/plain": [
       "<Variable name:\"load_impedance\" name_expression:\"\" symbol:\"Z_l\" symbolic_expression:\"\" numerical:\"[]\" unit:\"<Unit name:\"ohm\" symbol:\"\\Omega\" symbolic_expression:\"Ø\">\">"
      ]
     },
     "execution_count": 2,
     "metadata": {},
     "output_type": "execute_result"
    }
   ],
   "source": [
    "z_l = nsy.Variable(\n",
    "    name=\"load_impedance\",\n",
    "    symbol=\"Z_l\",\n",
    "    unit=nsy.u.ohm)\n",
    "z_l"
   ]
  },
  {
   "cell_type": "code",
   "execution_count": 3,
   "metadata": {},
   "outputs": [
    {
     "data": {
      "text/plain": [
       "<Variable name:\"operating_frequency\" name_expression:\"\" symbol:\"f_0\" symbolic_expression:\"\" numerical:\"[]\" unit:\"<Unit name:\"Hertz\" symbol:\"Hz\" symbolic_expression:\"Ø\">\">"
      ]
     },
     "execution_count": 3,
     "metadata": {},
     "output_type": "execute_result"
    }
   ],
   "source": [
    "f_0 = nsy.Variable(\n",
    "    name=\"operating_frequency\",\n",
    "    symbol=\"f_0\",\n",
    "    unit=nsy.u.Hertz)\n",
    "f_0"
   ]
  },
  {
   "cell_type": "code",
   "execution_count": 4,
   "metadata": {},
   "outputs": [
    {
     "data": {
      "text/plain": [
       "<Variable name:\"input_impedance_quarter_wavelength\" name_expression:\"\" symbol:\"Z_{in, \\lambda/4}\" symbolic_expression:\"\" numerical:\"[]\" unit:\"<Unit name:\"ohm\" symbol:\"\\Omega\" symbolic_expression:\"Ø\">\">"
      ]
     },
     "execution_count": 4,
     "metadata": {},
     "output_type": "execute_result"
    }
   ],
   "source": [
    "z_in_lambda_4 = nsy.Variable(\n",
    "    name=\"input_impedance_quarter_wavelength\",\n",
    "    symbol=\"Z_{in, \\lambda/4}\",\n",
    "    unit=nsy.u.ohm)\n",
    "z_in_lambda_4"
   ]
  },
  {
   "cell_type": "markdown",
   "metadata": {},
   "source": [
    "##### Define Operational Parameters\n",
    "Inputting numerical parameters is easy"
   ]
  },
  {
   "cell_type": "code",
   "execution_count": 5,
   "metadata": {},
   "outputs": [],
   "source": [
    "z_l.n = 300\n",
    "z_in_lambda_4.n = 50\n",
    "f_0.n = 10e9 # GHz"
   ]
  },
  {
   "cell_type": "markdown",
   "metadata": {},
   "source": [
    "If we want to match the transmission line impedance to the load impedance, we need to use a quarter wavelength converter.\n",
    "\n",
    "See:\n",
    "* https://eng.libretexts.org/Bookshelves/Electrical_Engineering/Electro-Optics/Book%3A_Electromagnetics_I_%28Ellingson%29/03%3A_Transmission_Lines/3.19%3A_Quarter-Wavelength_Transmission_Line"
   ]
  },
  {
   "cell_type": "markdown",
   "metadata": {},
   "source": [
    "##### Define Design Relationships"
   ]
  },
  {
   "cell_type": "code",
   "execution_count": 6,
   "metadata": {},
   "outputs": [
    {
     "data": {
      "text/plain": [
       "<Variable name:\"transmission_line_characteristic_impedance\" name_expression:\"square_root((input_impedance_quarter_wavelength_times_load_impedance))\" symbol:\"Z_{o}\" symbolic_expression:\"sqrt()\" numerical:\"122.47448713915891\" unit:\"<Unit name:\"square_root((ohm_times_ohm))\" symbol:\"Ø\" symbolic_expression:\"sqrt(\\Omega**2)\">\">"
      ]
     },
     "execution_count": 6,
     "metadata": {},
     "output_type": "execute_result"
    }
   ],
   "source": [
    "z_o = nsy.sqrt(z_in_lambda_4 * z_l)\n",
    "z_o.name = \"transmission_line_characteristic_impedance\"\n",
    "z_o.s = \"Z_{o}\"\n",
    "z_o"
   ]
  },
  {
   "cell_type": "code",
   "execution_count": 7,
   "metadata": {},
   "outputs": [
    {
     "data": {
      "text/plain": [
       "122.47448713915891"
      ]
     },
     "execution_count": 7,
     "metadata": {},
     "output_type": "execute_result"
    }
   ],
   "source": [
    "z_o.n"
   ]
  },
  {
   "cell_type": "code",
   "execution_count": 8,
   "metadata": {},
   "outputs": [
    {
     "data": {
      "text/plain": [
       "<Constant name:\"speed_of_light\" name_expression:\"\" symbol:\"c\" symbolic_expression:\"\" numerical:\"299792458\" unit:\"<Unit name:\"(meter)_per_(second)\" symbol:\"Ø\" symbolic_expression:\"m/s\">\">"
      ]
     },
     "execution_count": 8,
     "metadata": {},
     "output_type": "execute_result"
    }
   ],
   "source": [
    "nsy.c.speed_of_light"
   ]
  },
  {
   "cell_type": "code",
   "execution_count": 9,
   "metadata": {},
   "outputs": [
    {
     "data": {
      "text/plain": [
       "0.0299792458"
      ]
     },
     "execution_count": 9,
     "metadata": {},
     "output_type": "execute_result"
    }
   ],
   "source": [
    "lambda_0 = nsy.c.speed_of_light / f_0\n",
    "lambda_0.name = \"operating_free_space_wavelength\"\n",
    "lambda_0.n"
   ]
  },
  {
   "cell_type": "code",
   "execution_count": 10,
   "metadata": {},
   "outputs": [],
   "source": [
    "e_r = nsy.Variable(\n",
    "    name=\"silicon_dioxide_relative_permeability\",\n",
    "    numerical = 3.9,\n",
    "    symbol=\"v_f\",\n",
    ")"
   ]
  },
  {
   "cell_type": "code",
   "execution_count": 11,
   "metadata": {},
   "outputs": [
    {
     "data": {
      "text/plain": [
       "<Value name:\"signal_velocity_of_propagation\" name_expression:\"(1)_per_(square_root(silicon_dioxide_relative_permeability))\" symbol:\"v_f\" symbolic_expression:\"Ø/\" numerical:\"0.5063696835418333\" unit:\"<Unit name:\"(undefined)_per_(square_root(square_root((ohm_times_ohm))))\" symbol:\"Ø\" symbolic_expression:\"Ø/(\\Omega**2)**(1/4)\">\">"
      ]
     },
     "execution_count": 11,
     "metadata": {},
     "output_type": "execute_result"
    }
   ],
   "source": [
    "v_f = 1 / nsy.sqrt(e_r)\n",
    "v_f.name=\"signal_velocity_of_propagation\"\n",
    "v_f.symbol=\"v_f\"\n",
    "v_f"
   ]
  },
  {
   "cell_type": "code",
   "execution_count": 12,
   "metadata": {},
   "outputs": [
    {
     "data": {
      "text/plain": [
       "<Value name:\"signal_wavelength_line\" name_expression:\"(operating_free_space_wavelength_times_signal_velocity_of_propagation)\" symbol:\"\" symbolic_expression:\"*v_f\" numerical:\"0.015180581208568834\" unit:\"<Unit name:\"(((meter)_per_(second))_per_(Hertz)_times_(undefined)_per_(square_root(square_root((ohm_times_ohm)))))\" symbol:\"Ø\" symbolic_expression:\"m*Ø/(Hz*s*(\\Omega**2)**(1/4))\">\">"
      ]
     },
     "execution_count": 12,
     "metadata": {},
     "output_type": "execute_result"
    }
   ],
   "source": [
    "lambda_line = lambda_0 * v_f\n",
    "lambda_line.name = \"signal_wavelength_line\"\n",
    "lambda_line"
   ]
  },
  {
   "cell_type": "markdown",
   "metadata": {},
   "source": [
    "You can also operate on NumpSy classes with standard types"
   ]
  },
  {
   "cell_type": "code",
   "execution_count": 13,
   "metadata": {},
   "outputs": [
    {
     "data": {
      "text/plain": [
       "<Value name:\"quarter_wavelength_length\" name_expression:\"(signal_wavelength_line)_per_(4)\" symbol:\"\" symbolic_expression:\"/Ø\" numerical:\"0.0037951453021422086\" unit:\"<Unit name:\"((((meter)_per_(second))_per_(Hertz)_times_(undefined)_per_(square_root(square_root((ohm_times_ohm))))))_per_(undefined)\" symbol:\"Ø\" symbolic_expression:\"m/(Hz*s*(\\Omega**2)**(1/4))\">\">"
      ]
     },
     "execution_count": 13,
     "metadata": {},
     "output_type": "execute_result"
    }
   ],
   "source": [
    "lambda_4 = lambda_line / 4\n",
    "lambda_4.name = \"quarter_wavelength_length\"\n",
    "lambda_4"
   ]
  },
  {
   "cell_type": "code",
   "execution_count": 14,
   "metadata": {},
   "outputs": [
    {
     "data": {
      "text/plain": [
       "0.0037951453021422086"
      ]
     },
     "execution_count": 14,
     "metadata": {},
     "output_type": "execute_result"
    }
   ],
   "source": [
    "lambda_4.n"
   ]
  },
  {
   "cell_type": "code",
   "execution_count": 16,
   "metadata": {},
   "outputs": [
    {
     "data": {
      "text/plain": [
       "122.47448713915891"
      ]
     },
     "execution_count": 16,
     "metadata": {},
     "output_type": "execute_result"
    }
   ],
   "source": [
    "z_o.n"
   ]
  },
  {
   "cell_type": "markdown",
   "metadata": {},
   "source": [
    "##### Describe independent spatial properties of the waveguide"
   ]
  },
  {
   "cell_type": "code",
   "execution_count": null,
   "metadata": {},
   "outputs": [],
   "source": [
    "s = nsy.Variable(\n",
    "    name=\"signal_width\",\n",
    "    symbol=\"s\",\n",
    "    unit=nsy.u.meter)\n",
    "s"
   ]
  },
  {
   "cell_type": "code",
   "execution_count": null,
   "metadata": {},
   "outputs": [],
   "source": [
    "w = nsy.Variable(\n",
    "    name=\"gap_width\",\n",
    "    symbol=\"w\",\n",
    "    unit=nsy.u.meter)\n",
    "w"
   ]
  }
 ],
 "metadata": {
  "kernelspec": {
   "display_name": "Python 3",
   "language": "python",
   "name": "python3"
  },
  "language_info": {
   "codemirror_mode": {
    "name": "ipython",
    "version": 3
   },
   "file_extension": ".py",
   "mimetype": "text/x-python",
   "name": "python",
   "nbconvert_exporter": "python",
   "pygments_lexer": "ipython3",
   "version": "3.8.3"
  }
 },
 "nbformat": 4,
 "nbformat_minor": 4
}
