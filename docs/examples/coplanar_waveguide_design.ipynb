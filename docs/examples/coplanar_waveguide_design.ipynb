{
 "cells": [
  {
   "cell_type": "markdown",
   "metadata": {},
   "source": [
    "# Coplanar Waveguide Design"
   ]
  },
  {
   "cell_type": "code",
   "execution_count": 1,
   "metadata": {},
   "outputs": [],
   "source": [
    "import numpsy as nsy\n",
    "import numpy as np"
   ]
  },
  {
   "cell_type": "markdown",
   "metadata": {},
   "source": [
    "##### Describe independent spatial properties of the waveguide"
   ]
  },
  {
   "cell_type": "code",
   "execution_count": 2,
   "metadata": {},
   "outputs": [
    {
     "data": {
      "text/plain": [
       "<Variable name:\"signal_width\" name_expression:\"\" symbol:\"s\" symbolic_expression:\"\" numerical:\"[]\" unit:\"<Unit name:\"meter\" symbol:\"m\" symbolic_expression:\"Ø\">\">"
      ]
     },
     "execution_count": 2,
     "metadata": {},
     "output_type": "execute_result"
    }
   ],
   "source": [
    "s = nsy.Variable(\n",
    "    name=\"signal_width\",\n",
    "    symbol=\"s\",\n",
    "    unit=nsy.u.meter)\n",
    "s"
   ]
  },
  {
   "cell_type": "code",
   "execution_count": 3,
   "metadata": {},
   "outputs": [
    {
     "data": {
      "text/plain": [
       "<Variable name:\"gap_width\" name_expression:\"\" symbol:\"w\" symbolic_expression:\"\" numerical:\"[]\" unit:\"<Unit name:\"meter\" symbol:\"m\" symbolic_expression:\"Ø\">\">"
      ]
     },
     "execution_count": 3,
     "metadata": {},
     "output_type": "execute_result"
    }
   ],
   "source": [
    "w = nsy.Variable(\n",
    "    name=\"gap_width\",\n",
    "    symbol=\"w\",\n",
    "    unit=nsy.u.meter)\n",
    "w"
   ]
  },
  {
   "cell_type": "markdown",
   "metadata": {},
   "source": [
    "##### Determine the signal to ground separation constant ($k$)"
   ]
  },
  {
   "cell_type": "code",
   "execution_count": 4,
   "metadata": {},
   "outputs": [
    {
     "data": {
      "text/plain": [
       "<Value name:\"\" name_expression:\"(signal_width)_per_((signal_width_plus_(gap_width_times_2)))\" symbol:\"\" symbolic_expression:\"s/\" numerical:\"[]\" unit:\"<Unit name:\"(meter)_per_((meter_plus_(meter_times_undefined)))\" symbol:\"Ø\" symbolic_expression:\"m/(m*Ø + m)\">\">"
      ]
     },
     "execution_count": 4,
     "metadata": {},
     "output_type": "execute_result"
    }
   ],
   "source": [
    "k = s / (s + 2 * w)\n",
    "k"
   ]
  },
  {
   "cell_type": "markdown",
   "metadata": {},
   "source": [
    "Note that the unit of k is $\\frac{m}{m}$ which is a ratio of 1 and can be retrieved using `k.u.se` shorthand for `k.unit.symbolic_expression`"
   ]
  },
  {
   "cell_type": "code",
   "execution_count": 5,
   "metadata": {},
   "outputs": [
    {
     "name": "stdout",
     "output_type": "stream",
     "text": [
      "Shorthand functions are valid: True\n"
     ]
    },
    {
     "data": {
      "text/latex": [
       "$\\displaystyle \\frac{m}{m Ø + m}$"
      ],
      "text/plain": [
       "m/(m*Ø + m)"
      ]
     },
     "execution_count": 5,
     "metadata": {},
     "output_type": "execute_result"
    }
   ],
   "source": [
    "print(\"Shorthand functions are valid: \" + str(k.u.se == k.unit.symbolic_expression))\n",
    "k.u.se "
   ]
  },
  {
   "cell_type": "code",
   "execution_count": null,
   "metadata": {},
   "outputs": [],
   "source": [
    "def k_1():\n",
    "    "
   ]
  }
 ],
 "metadata": {
  "kernelspec": {
   "display_name": "Python 3",
   "language": "python",
   "name": "python3"
  },
  "language_info": {
   "codemirror_mode": {
    "name": "ipython",
    "version": 3
   },
   "file_extension": ".py",
   "mimetype": "text/x-python",
   "name": "python",
   "nbconvert_exporter": "python",
   "pygments_lexer": "ipython3",
   "version": "3.8.3"
  }
 },
 "nbformat": 4,
 "nbformat_minor": 4
}
