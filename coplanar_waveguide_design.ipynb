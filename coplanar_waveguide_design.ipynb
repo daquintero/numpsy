{
 "cells": [
  {
   "cell_type": "code",
   "execution_count": 1,
   "metadata": {},
   "outputs": [],
   "source": [
    "import numpsy as nsy\n",
    "import scipy as sp\n",
    "import sympy as sy\n",
    "import numpy as np\n",
    "import scipy.special\n",
    "import pandas as pd"
   ]
  },
  {
   "cell_type": "code",
   "execution_count": 2,
   "metadata": {},
   "outputs": [
    {
     "data": {
      "text/markdown": [
       "|                     | Unit                             |\n",
       "|:--------------------|:---------------------------------|\n",
       "| name                | Hertz                            |\n",
       "| symbol              | \\begin{equation}Hz\\end{equation} |\n",
       "| symbolic_expression | \\begin{equation}Ø\\end{equation}  |"
      ],
      "text/plain": [
       "Unit       name name_expression                            symbol  \\\n",
       "Unit  Hertz       undefined  \\begin{equation}Hz\\end{equation}   \n",
       "\n",
       "                  symbolic_expression  \n",
       "Unit  \\begin{equation}Ø\\end{equation}  "
      ]
     },
     "execution_count": 2,
     "metadata": {},
     "output_type": "execute_result"
    }
   ],
   "source": [
    "nsy.u.Hertz"
   ]
  },
  {
   "cell_type": "markdown",
   "metadata": {},
   "source": [
    "##### Define Design Parameters"
   ]
  },
  {
   "cell_type": "code",
   "execution_count": 3,
   "metadata": {},
   "outputs": [
    {
     "data": {
      "text/markdown": [
       "|                     | Variable                                             |\n",
       "|:--------------------|:-----------------------------------------------------|\n",
       "| name                | load_impedance                                       |\n",
       "| symbol              | \\begin{equation}Z_{l}\\end{equation}                  |\n",
       "| symbolic_expression | \\begin{equation}Ø\\end{equation}                      |\n",
       "| numerical           | []                                                   |\n",
       "| unit                | Symbol: \\begin{equation}\\Omega\\end{equation}         |\n",
       "|                     | Symbolic Expression: \\begin{equation}Ø\\end{equation} |"
      ],
      "text/plain": [
       "Variable                    name name_expression numerical  \\\n",
       "Variable  load_impedance                        []   \n",
       "\n",
       "                                       symbol  \\\n",
       "Variable  \\begin{equation}Z_{l}\\end{equation}   \n",
       "\n",
       "                      symbolic_expression  \\\n",
       "Variable  \\begin{equation}Ø\\end{equation}   \n",
       "\n",
       "                                                       unit  \n",
       "Variable  Symbol: \\begin{equation}\\Omega\\end{equation}\\n...  "
      ]
     },
     "execution_count": 3,
     "metadata": {},
     "output_type": "execute_result"
    }
   ],
   "source": [
    "z_l = nsy.Variable(\n",
    "    name=\"load_impedance\",\n",
    "    symbol=\"Z_l\",\n",
    "    unit=nsy.u.ohm)\n",
    "z_l"
   ]
  },
  {
   "cell_type": "code",
   "execution_count": 4,
   "metadata": {},
   "outputs": [
    {
     "data": {
      "text/markdown": [
       "|                     | Variable                                             |\n",
       "|:--------------------|:-----------------------------------------------------|\n",
       "| name                | operating_frequency                                  |\n",
       "| symbol              | \\begin{equation}f_{0}\\end{equation}                  |\n",
       "| symbolic_expression | \\begin{equation}Ø\\end{equation}                      |\n",
       "| numerical           | []                                                   |\n",
       "| unit                | Symbol: \\begin{equation}Hz\\end{equation}             |\n",
       "|                     | Symbolic Expression: \\begin{equation}Ø\\end{equation} |"
      ],
      "text/plain": [
       "Variable                         name name_expression numerical  \\\n",
       "Variable  operating_frequency                        []   \n",
       "\n",
       "                                       symbol  \\\n",
       "Variable  \\begin{equation}f_{0}\\end{equation}   \n",
       "\n",
       "                      symbolic_expression  \\\n",
       "Variable  \\begin{equation}Ø\\end{equation}   \n",
       "\n",
       "                                                       unit  \n",
       "Variable  Symbol: \\begin{equation}Hz\\end{equation}\\nSymb...  "
      ]
     },
     "execution_count": 4,
     "metadata": {},
     "output_type": "execute_result"
    }
   ],
   "source": [
    "f_0 = nsy.Variable(\n",
    "    name=\"operating_frequency\",\n",
    "    symbol=\"f_0\",\n",
    "    unit=nsy.u.Hertz)\n",
    "f_0"
   ]
  },
  {
   "cell_type": "code",
   "execution_count": 5,
   "metadata": {},
   "outputs": [
    {
     "data": {
      "text/markdown": [
       "|                     | Variable                                             |\n",
       "|:--------------------|:-----------------------------------------------------|\n",
       "| name                | input_impedance_quarter_wavelength                   |\n",
       "| symbol              | \\begin{equation}Z_{in, \\lambda/4}\\end{equation}      |\n",
       "| symbolic_expression | \\begin{equation}Ø\\end{equation}                      |\n",
       "| numerical           | []                                                   |\n",
       "| unit                | Symbol: \\begin{equation}\\Omega\\end{equation}         |\n",
       "|                     | Symbolic Expression: \\begin{equation}Ø\\end{equation} |"
      ],
      "text/plain": [
       "Variable                                        name name_expression numerical  \\\n",
       "Variable  input_impedance_quarter_wavelength                        []   \n",
       "\n",
       "                                                   symbol  \\\n",
       "Variable  \\begin{equation}Z_{in, \\lambda/4}\\end{equation}   \n",
       "\n",
       "                      symbolic_expression  \\\n",
       "Variable  \\begin{equation}Ø\\end{equation}   \n",
       "\n",
       "                                                       unit  \n",
       "Variable  Symbol: \\begin{equation}\\Omega\\end{equation}\\n...  "
      ]
     },
     "execution_count": 5,
     "metadata": {},
     "output_type": "execute_result"
    }
   ],
   "source": [
    "z_in_lambda_4 = nsy.Variable(\n",
    "    name=\"input_impedance_quarter_wavelength\",\n",
    "    symbol=\"Z_{in, \\lambda/4}\",\n",
    "    unit=nsy.u.ohm)\n",
    "z_in_lambda_4"
   ]
  },
  {
   "cell_type": "markdown",
   "metadata": {},
   "source": [
    "##### Define Operational Parameters\n",
    "Inputting numerical parameters is easy.\n",
    "\n",
    "Note commercial digital logic gates can operate up to 14 GHz (common) and 28 GHz (high-end) from Analog Devices so we might want to design below this to test with these CPWs\n",
    "* https://www.analog.com/en/products/high-speed-logic/logic-devices/logic-gates.html"
   ]
  },
  {
   "cell_type": "markdown",
   "metadata": {},
   "source": [
    "We need to do L2L dembedding, whilst substracting 10um (connector) + 40 um pad center radius, so 50um on either pad side * 2 in order to design the effective CPW length. We then need the 1x length dembedding and ideally use exactly this length with a known terminator. So three experiments per waveguide design, potentially around 10GHz and 25 GHz. And a crazy fast one if there's space half the smallest one."
   ]
  },
  {
   "cell_type": "code",
   "execution_count": 6,
   "metadata": {},
   "outputs": [],
   "source": [
    "z_l.n = np.array([50, 50, 50,  50, 50, 500, 100, 50, 50, 500,])\n",
    "z_in_lambda_4.n = np.array([50, 50, 50, 50, 50, 50, 50, 50, 50, 50,])\n",
    "f_0.n = np.array([12e9, 12e9,  11e9, 10.5e9, 25e9, 25e9, 25e9, 45e9, 10.5e9, 25e9,]) # GHz"
   ]
  },
  {
   "cell_type": "markdown",
   "metadata": {},
   "source": [
    "If we want to match the transmission line impedance to the load impedance, we need to use a quarter wavelength converter.\n",
    "\n",
    "See:\n",
    "* https://eng.libretexts.org/Bookshelves/Electrical_Engineering/Electro-Optics/Book%3A_Electromagnetics_I_%28Ellingson%29/03%3A_Transmission_Lines/3.19%3A_Quarter-Wavelength_Transmission_Line"
   ]
  },
  {
   "cell_type": "markdown",
   "metadata": {},
   "source": [
    "##### Define Design Relationships"
   ]
  },
  {
   "cell_type": "code",
   "execution_count": 7,
   "metadata": {},
   "outputs": [
    {
     "data": {
      "text/markdown": [
       "|                     | Value                                                                |\n",
       "|:--------------------|:---------------------------------------------------------------------|\n",
       "| name                | transmission_line_characteristic_impedance                           |\n",
       "| symbol              | \\begin{equation}Z_{o}\\end{equation}                                  |\n",
       "| symbolic_expression | \\begin{equation}\\sqrt{Z_{l} Z_{in, \\lambda/4}}\\end{equation}         |\n",
       "| numerical           | [ 50.          50.          50.          50.          50.            |\n",
       "|                     |  158.11388301  70.71067812  50.          50.         158.11388301]   |\n",
       "| unit                | Symbol: \\begin{equation}Ø\\end{equation}                              |\n",
       "|                     | Symbolic Expression: \\begin{equation}\\sqrt{\\Omega^{2}}\\end{equation} |"
      ],
      "text/plain": [
       "Value                                             name  \\\n",
       "Value  transmission_line_characteristic_impedance   \n",
       "\n",
       "                                         name_expression  \\\n",
       "Value  square_root((input_impedance_quarter_wavelengt...   \n",
       "\n",
       "                                               numerical  \\\n",
       "Value  [50.0, 50.0, 50.0, 50.0, 50.0, 158.11388300841...   \n",
       "\n",
       "                                    symbol  \\\n",
       "Value  \\begin{equation}Z_{o}\\end{equation}   \n",
       "\n",
       "                                     symbolic_expression  \\\n",
       "Value  \\begin{equation}\\sqrt{Z_{l} Z_{in, \\lambda/4}}...   \n",
       "\n",
       "                                                    unit  \n",
       "Value  Symbol: \\begin{equation}Ø\\end{equation}\\nSymbo...  "
      ]
     },
     "execution_count": 7,
     "metadata": {},
     "output_type": "execute_result"
    }
   ],
   "source": [
    "z_o = nsy.sqrt(z_in_lambda_4 * z_l)\n",
    "z_o.name = \"transmission_line_characteristic_impedance\"\n",
    "z_o.s = \"Z_{o}\"\n",
    "z_o"
   ]
  },
  {
   "cell_type": "code",
   "execution_count": 8,
   "metadata": {},
   "outputs": [
    {
     "data": {
      "text/latex": [
       "$\\displaystyle Z_{o}$"
      ],
      "text/plain": [
       "Z_{o}"
      ]
     },
     "execution_count": 8,
     "metadata": {},
     "output_type": "execute_result"
    }
   ],
   "source": [
    "z_o.s"
   ]
  },
  {
   "cell_type": "code",
   "execution_count": 9,
   "metadata": {},
   "outputs": [
    {
     "data": {
      "text/latex": [
       "$\\displaystyle \\sqrt{Z_{l} Z_{in, \\lambda/4}}$"
      ],
      "text/plain": [
       "sqrt(Z_l*Z_{in, \\lambda/4})"
      ]
     },
     "execution_count": 9,
     "metadata": {},
     "output_type": "execute_result"
    }
   ],
   "source": [
    "a = nsy.sqrt(z_in_lambda_4 * z_l)\n",
    "a.se"
   ]
  },
  {
   "cell_type": "code",
   "execution_count": 10,
   "metadata": {},
   "outputs": [
    {
     "data": {
      "text/plain": [
       "array([ 50.        ,  50.        ,  50.        ,  50.        ,\n",
       "        50.        , 158.11388301,  70.71067812,  50.        ,\n",
       "        50.        , 158.11388301])"
      ]
     },
     "execution_count": 10,
     "metadata": {},
     "output_type": "execute_result"
    }
   ],
   "source": [
    "z_o.n"
   ]
  },
  {
   "cell_type": "code",
   "execution_count": 11,
   "metadata": {},
   "outputs": [
    {
     "data": {
      "text/plain": [
       "array([0.0249827 , 0.0249827 , 0.02725386, 0.02855166, 0.0119917 ,\n",
       "       0.0119917 , 0.0119917 , 0.00666205, 0.02855166, 0.0119917 ])"
      ]
     },
     "execution_count": 11,
     "metadata": {},
     "output_type": "execute_result"
    }
   ],
   "source": [
    "lambda_0 = nsy.c.speed_of_light / f_0\n",
    "lambda_0.name = \"operating_free_space_wavelength\"\n",
    "lambda_0.n"
   ]
  },
  {
   "cell_type": "code",
   "execution_count": 12,
   "metadata": {},
   "outputs": [
    {
     "data": {
      "text/latex": [
       "$\\displaystyle \\frac{c}{f_{0}}$"
      ],
      "text/plain": [
       "c/f_0"
      ]
     },
     "execution_count": 12,
     "metadata": {},
     "output_type": "execute_result"
    }
   ],
   "source": [
    "lambda_0.se"
   ]
  },
  {
   "cell_type": "code",
   "execution_count": 13,
   "metadata": {},
   "outputs": [],
   "source": [
    "e_r_0 = nsy.Variable(\n",
    "    name=\"silicon_dioxide_relative_permeability\",\n",
    "    numerical = 3.9,\n",
    "    symbol=\"v_f\",\n",
    ")"
   ]
  },
  {
   "cell_type": "code",
   "execution_count": 14,
   "metadata": {},
   "outputs": [
    {
     "data": {
      "text/markdown": [
       "|                     | Value                                                                             |\n",
       "|:--------------------|:----------------------------------------------------------------------------------|\n",
       "| name                | signal_velocity_of_propagation                                                    |\n",
       "| symbol              | \\begin{equation}v_{f}\\end{equation}                                               |\n",
       "| symbolic_expression | \\begin{equation}\\frac{Ø}{\\sqrt{v_{f}}}\\end{equation}                              |\n",
       "| numerical           | 0.5063696835418333                                                                |\n",
       "| unit                | Symbol: \\begin{equation}Ø\\end{equation}                                           |\n",
       "|                     | Symbolic Expression: \\begin{equation}\\frac{Ø}{\\sqrt[4]{\\Omega^{2}}}\\end{equation} |"
      ],
      "text/plain": [
       "Value                                 name  \\\n",
       "Value  signal_velocity_of_propagation   \n",
       "\n",
       "                                         name_expression  numerical  \\\n",
       "Value  (1)_per_(square_root(silicon_dioxide_relative_...    0.50637   \n",
       "\n",
       "                                    symbol  \\\n",
       "Value  \\begin{equation}v_{f}\\end{equation}   \n",
       "\n",
       "                                     symbolic_expression  \\\n",
       "Value  \\begin{equation}\\frac{Ø}{\\sqrt{v_{f}}}\\end{equ...   \n",
       "\n",
       "                                                    unit  \n",
       "Value  Symbol: \\begin{equation}Ø\\end{equation}\\nSymbo...  "
      ]
     },
     "execution_count": 14,
     "metadata": {},
     "output_type": "execute_result"
    }
   ],
   "source": [
    "v_f = 1 / nsy.sqrt(e_r_0)\n",
    "v_f.name=\"signal_velocity_of_propagation\"\n",
    "v_f.symbol=\"v_f\"\n",
    "v_f"
   ]
  },
  {
   "cell_type": "code",
   "execution_count": 15,
   "metadata": {},
   "outputs": [
    {
     "data": {
      "text/markdown": [
       "|                     | Value                                                                                    |\n",
       "|:--------------------|:-----------------------------------------------------------------------------------------|\n",
       "| name                | signal_wavelength_line                                                                   |\n",
       "| symbol              | \\begin{equation}Ø\\end{equation}                                                          |\n",
       "| symbolic_expression | \\begin{equation}\\frac{c v_{f}}{f_{0}}\\end{equation}                                      |\n",
       "| numerical           | [0.01265048 0.01265048 0.01380053 0.0144577  0.00607223 0.00607223                       |\n",
       "|                     |  0.00607223 0.00337346 0.0144577  0.00607223]                                            |\n",
       "| unit                | Symbol: \\begin{equation}Ø\\end{equation}                                                  |\n",
       "|                     | Symbolic Expression: \\begin{equation}\\frac{m Ø}{Hz s \\sqrt[4]{\\Omega^{2}}}\\end{equation} |"
      ],
      "text/plain": [
       "Value                         name  \\\n",
       "Value  signal_wavelength_line   \n",
       "\n",
       "                                         name_expression  \\\n",
       "Value  (operating_free_space_wavelength_times_signal_...   \n",
       "\n",
       "                                               numerical  \\\n",
       "Value  [0.012650484340474031, 0.012650484340474031, 0...   \n",
       "\n",
       "                                symbol  \\\n",
       "Value  \\begin{equation}Ø\\end{equation}   \n",
       "\n",
       "                                     symbolic_expression  \\\n",
       "Value  \\begin{equation}\\frac{c v_{f}}{f_{0}}\\end{equa...   \n",
       "\n",
       "                                                    unit  \n",
       "Value  Symbol: \\begin{equation}Ø\\end{equation}\\nSymbo...  "
      ]
     },
     "execution_count": 15,
     "metadata": {},
     "output_type": "execute_result"
    }
   ],
   "source": [
    "lambda_line = lambda_0 * v_f\n",
    "lambda_line.name = \"signal_wavelength_line\"\n",
    "lambda_line"
   ]
  },
  {
   "cell_type": "markdown",
   "metadata": {},
   "source": [
    "You can also operate on NumpSy classes with standard types"
   ]
  },
  {
   "cell_type": "code",
   "execution_count": 16,
   "metadata": {},
   "outputs": [
    {
     "data": {
      "text/markdown": [
       "|                     | Value                                                                                  |\n",
       "|:--------------------|:---------------------------------------------------------------------------------------|\n",
       "| name                | quarter_wavelength_length                                                              |\n",
       "| symbol              | \\begin{equation}Ø\\end{equation}                                                        |\n",
       "| symbolic_expression | \\begin{equation}\\frac{c v_{f}}{f_{0} Ø}\\end{equation}                                  |\n",
       "| numerical           | [0.00316262 0.00316262 0.00345013 0.00361442 0.00151806 0.00151806                     |\n",
       "|                     |  0.00151806 0.00084337 0.00361442 0.00151806]                                          |\n",
       "| unit                | Symbol: \\begin{equation}Ø\\end{equation}                                                |\n",
       "|                     | Symbolic Expression: \\begin{equation}\\frac{m}{Hz s \\sqrt[4]{\\Omega^{2}}}\\end{equation} |"
      ],
      "text/plain": [
       "Value                            name                   name_expression  \\\n",
       "Value  quarter_wavelength_length  (signal_wavelength_line)_per_(4)   \n",
       "\n",
       "                                               numerical  \\\n",
       "Value  [0.0031626210851185077, 0.0031626210851185077,...   \n",
       "\n",
       "                                symbol  \\\n",
       "Value  \\begin{equation}Ø\\end{equation}   \n",
       "\n",
       "                                     symbolic_expression  \\\n",
       "Value  \\begin{equation}\\frac{c v_{f}}{f_{0} Ø}\\end{eq...   \n",
       "\n",
       "                                                    unit  \n",
       "Value  Symbol: \\begin{equation}Ø\\end{equation}\\nSymbo...  "
      ]
     },
     "execution_count": 16,
     "metadata": {},
     "output_type": "execute_result"
    }
   ],
   "source": [
    "lambda_4 = lambda_line / 4\n",
    "lambda_4.name = \"quarter_wavelength_length\"\n",
    "lambda_4"
   ]
  },
  {
   "cell_type": "code",
   "execution_count": 17,
   "metadata": {},
   "outputs": [
    {
     "data": {
      "text/plain": [
       "array([3162.62108512, 3162.62108512, 3450.13209286, 3614.42409728,\n",
       "       1518.05812086, 1518.05812086, 1518.05812086,  843.3656227 ,\n",
       "       3614.42409728, 1518.05812086])"
      ]
     },
     "execution_count": 17,
     "metadata": {},
     "output_type": "execute_result"
    }
   ],
   "source": [
    "lambda_4.n * 1e6"
   ]
  },
  {
   "cell_type": "code",
   "execution_count": 18,
   "metadata": {},
   "outputs": [
    {
     "data": {
      "text/plain": [
       "array([ 50.        ,  50.        ,  50.        ,  50.        ,\n",
       "        50.        , 158.11388301,  70.71067812,  50.        ,\n",
       "        50.        , 158.11388301])"
      ]
     },
     "execution_count": 18,
     "metadata": {},
     "output_type": "execute_result"
    }
   ],
   "source": [
    "z_o.n"
   ]
  },
  {
   "cell_type": "markdown",
   "metadata": {},
   "source": [
    "##### Describe independent spatial properties of the waveguide"
   ]
  },
  {
   "cell_type": "code",
   "execution_count": 19,
   "metadata": {},
   "outputs": [
    {
     "data": {
      "text/markdown": [
       "|                     | Variable                                             |\n",
       "|:--------------------|:-----------------------------------------------------|\n",
       "| name                | signal_width                                         |\n",
       "| symbol              | \\begin{equation}s\\end{equation}                      |\n",
       "| symbolic_expression | \\begin{equation}Ø\\end{equation}                      |\n",
       "| numerical           | []                                                   |\n",
       "| unit                | Symbol: \\begin{equation}m\\end{equation}              |\n",
       "|                     | Symbolic Expression: \\begin{equation}Ø\\end{equation} |"
      ],
      "text/plain": [
       "Variable                  name name_expression numerical  \\\n",
       "Variable  signal_width                        []   \n",
       "\n",
       "                                   symbol              symbolic_expression  \\\n",
       "Variable  \\begin{equation}s\\end{equation}  \\begin{equation}Ø\\end{equation}   \n",
       "\n",
       "                                                       unit  \n",
       "Variable  Symbol: \\begin{equation}m\\end{equation}\\nSymbo...  "
      ]
     },
     "execution_count": 19,
     "metadata": {},
     "output_type": "execute_result"
    }
   ],
   "source": [
    "s = nsy.Variable(\n",
    "    name=\"signal_width\",\n",
    "    symbol=\"s\",\n",
    "    unit=nsy.u.meter)\n",
    "s"
   ]
  },
  {
   "cell_type": "code",
   "execution_count": 20,
   "metadata": {},
   "outputs": [
    {
     "data": {
      "text/markdown": [
       "|                     | Variable                                             |\n",
       "|:--------------------|:-----------------------------------------------------|\n",
       "| name                | gap_width                                            |\n",
       "| symbol              | \\begin{equation}w\\end{equation}                      |\n",
       "| symbolic_expression | \\begin{equation}Ø\\end{equation}                      |\n",
       "| numerical           | []                                                   |\n",
       "| unit                | Symbol: \\begin{equation}m\\end{equation}              |\n",
       "|                     | Symbolic Expression: \\begin{equation}Ø\\end{equation} |"
      ],
      "text/plain": [
       "Variable               name name_expression numerical  \\\n",
       "Variable  gap_width                        []   \n",
       "\n",
       "                                   symbol              symbolic_expression  \\\n",
       "Variable  \\begin{equation}w\\end{equation}  \\begin{equation}Ø\\end{equation}   \n",
       "\n",
       "                                                       unit  \n",
       "Variable  Symbol: \\begin{equation}m\\end{equation}\\nSymbo...  "
      ]
     },
     "execution_count": 20,
     "metadata": {},
     "output_type": "execute_result"
    }
   ],
   "source": [
    "w = nsy.Variable(\n",
    "    name=\"gap_width\",\n",
    "    symbol=\"w\",\n",
    "    unit=nsy.u.meter)\n",
    "w"
   ]
  },
  {
   "cell_type": "code",
   "execution_count": 21,
   "metadata": {},
   "outputs": [],
   "source": [
    "s.n = np.array([25e-6, 23e-6, 25e-6, 25e-6, 25e-6,  5e-6, 10e-6, 25e-6, 25e-6, 8e-6,])\n",
    "w.n = np.array([2.585e-6, 7e-6, 2.585e-6, 2.585e-6, 2e-6, 20e-6, 3.255e-6,  2.585e-6, 2.585e-6, 31e-6,])"
   ]
  },
  {
   "cell_type": "code",
   "execution_count": 22,
   "metadata": {},
   "outputs": [],
   "source": [
    "g = 2 * s\n",
    "g.name = \"ground_width\""
   ]
  },
  {
   "cell_type": "code",
   "execution_count": 23,
   "metadata": {},
   "outputs": [
    {
     "data": {
      "text/markdown": [
       "|                     | Value                                                                |\n",
       "|:--------------------|:---------------------------------------------------------------------|\n",
       "| name                |                                                                      |\n",
       "| symbol              | \\begin{equation}Ø\\end{equation}                                      |\n",
       "| symbolic_expression | \\begin{equation}\\frac{s}{s + w Ø}\\end{equation}                      |\n",
       "| numerical           | [0.82863772 0.62162162 0.82863772 0.82863772 0.86206897 0.11111111   |\n",
       "|                     |  0.60569352 0.82863772 0.82863772 0.11428571]                        |\n",
       "| unit                | Symbol: \\begin{equation}Ø\\end{equation}                              |\n",
       "|                     | Symbolic Expression: \\begin{equation}\\frac{m}{m Ø + m}\\end{equation} |"
      ],
      "text/plain": [
       "Value      name                                    name_expression  \\\n",
       "Value       (signal_width)_per_((signal_width_plus_(2_time...   \n",
       "\n",
       "                                               numerical  \\\n",
       "Value  [0.8286377195889957, 0.6216216216216216, 0.828...   \n",
       "\n",
       "                                symbol  \\\n",
       "Value  \\begin{equation}Ø\\end{equation}   \n",
       "\n",
       "                                   symbolic_expression  \\\n",
       "Value  \\begin{equation}\\frac{s}{s + w Ø}\\end{equation}   \n",
       "\n",
       "                                                    unit  \n",
       "Value  Symbol: \\begin{equation}Ø\\end{equation}\\nSymbo...  "
      ]
     },
     "execution_count": 23,
     "metadata": {},
     "output_type": "execute_result"
    }
   ],
   "source": [
    "k_0_infinite = k_4_infinite = k_3_infinite = s / (s + 2 * w)\n",
    "k_0_infinite_dash = nsy.sqrt(1 - k_0_infinite ** 2)\n",
    "k_0_infinite"
   ]
  },
  {
   "cell_type": "markdown",
   "metadata": {},
   "source": [
    "#### Infinite Ground Width"
   ]
  },
  {
   "cell_type": "markdown",
   "metadata": {},
   "source": [
    "Matches coplanar waveguide calculator"
   ]
  },
  {
   "cell_type": "code",
   "execution_count": 24,
   "metadata": {},
   "outputs": [
    {
     "data": {
      "text/plain": [
       "8.8541878128e-12"
      ]
     },
     "execution_count": 24,
     "metadata": {},
     "output_type": "execute_result"
    }
   ],
   "source": [
    "e_0 = nsy.c.permittivity_vaccum\n",
    "e_0.n"
   ]
  },
  {
   "cell_type": "code",
   "execution_count": 25,
   "metadata": {},
   "outputs": [
    {
     "data": {
      "text/plain": [
       "array([4.32005679e-11, 3.14738277e-11, 4.32005679e-11, 4.32005679e-11,\n",
       "       4.62322491e-11, 1.45642680e-11, 3.08189780e-11, 4.32005679e-11,\n",
       "       4.32005679e-11, 1.46817846e-11])"
      ]
     },
     "execution_count": 25,
     "metadata": {},
     "output_type": "execute_result"
    }
   ],
   "source": [
    "C_air = 4 * e_0 * nsy.complete_elliptical_integral_first_kind(k_0_infinite) / nsy.complete_elliptical_integral_first_kind(k_0_infinite_dash)\n",
    "C_air.n"
   ]
  },
  {
   "cell_type": "code",
   "execution_count": 26,
   "metadata": {},
   "outputs": [
    {
     "data": {
      "text/plain": [
       "array([1.05841391e-10, 7.71108779e-11, 1.05841391e-10, 1.05841391e-10,\n",
       "       1.13269010e-10, 3.56824566e-11, 7.55064961e-11, 1.05841391e-10,\n",
       "       1.05841391e-10, 3.59703722e-11])"
      ]
     },
     "execution_count": 26,
     "metadata": {},
     "output_type": "execute_result"
    }
   ],
   "source": [
    "C_cpw_infinite = 2 * e_0 * (e_r_0 + 1)* nsy.complete_elliptical_integral_first_kind(k_0_infinite) / nsy.complete_elliptical_integral_first_kind(k_0_infinite_dash)\n",
    "C_cpw_infinite.n"
   ]
  },
  {
   "cell_type": "code",
   "execution_count": 27,
   "metadata": {},
   "outputs": [
    {
     "data": {
      "text/plain": [
       "2.45"
      ]
     },
     "execution_count": 27,
     "metadata": {},
     "output_type": "execute_result"
    }
   ],
   "source": [
    "e_r_1 = e_r_0\n",
    "e_eff_infinite = (1 + e_r_1) / 2\n",
    "e_eff_infinite.n"
   ]
  },
  {
   "cell_type": "code",
   "execution_count": 28,
   "metadata": {},
   "outputs": [
    {
     "data": {
      "text/plain": [
       "191530375.77992874"
      ]
     },
     "execution_count": 28,
     "metadata": {},
     "output_type": "execute_result"
    }
   ],
   "source": [
    "v_phase_infinite = nsy.c.speed_of_light / nsy.sqrt(e_eff_infinite)\n",
    "v_phase_infinite.n"
   ]
  },
  {
   "cell_type": "code",
   "execution_count": 29,
   "metadata": {},
   "outputs": [
    {
     "data": {
      "text/plain": [
       "array([2.45, 2.45, 2.45, 2.45, 2.45, 2.45, 2.45, 2.45, 2.45, 2.45])"
      ]
     },
     "execution_count": 29,
     "metadata": {},
     "output_type": "execute_result"
    }
   ],
   "source": [
    "# Verification of eff\n",
    "(C_cpw_infinite / C_air).n"
   ]
  },
  {
   "cell_type": "code",
   "execution_count": 30,
   "metadata": {},
   "outputs": [
    {
     "data": {
      "text/plain": [
       "array([ 49.36365976,  67.7559195 ,  49.36365976,  49.36365976,\n",
       "        46.12663623, 146.42261015,  69.19561504,  49.36365976,\n",
       "        49.36365976, 145.25060797])"
      ]
     },
     "execution_count": 30,
     "metadata": {},
     "output_type": "execute_result"
    }
   ],
   "source": [
    "z_0_infinite = 30 * nsy.c.pi * nsy.complete_elliptical_integral_first_kind(k_0_infinite_dash) \\\n",
    "                / (nsy.sqrt(e_eff_infinite) * nsy.complete_elliptical_integral_first_kind(k_0_infinite))\n",
    "z_0_infinite.n"
   ]
  },
  {
   "cell_type": "markdown",
   "metadata": {},
   "source": [
    "#### Finite Ground Width"
   ]
  },
  {
   "cell_type": "code",
   "execution_count": 31,
   "metadata": {},
   "outputs": [
    {
     "data": {
      "text/plain": [
       "array([1.25e-05, 1.15e-05, 1.25e-05, 1.25e-05, 1.25e-05, 2.50e-06,\n",
       "       5.00e-06, 1.25e-05, 1.25e-05, 4.00e-06])"
      ]
     },
     "execution_count": 31,
     "metadata": {},
     "output_type": "execute_result"
    }
   ],
   "source": [
    "a = s / 2\n",
    "a.n"
   ]
  },
  {
   "cell_type": "code",
   "execution_count": 32,
   "metadata": {},
   "outputs": [
    {
     "data": {
      "text/plain": [
       "array([1.5085e-05, 1.8500e-05, 1.5085e-05, 1.5085e-05, 1.4500e-05,\n",
       "       2.2500e-05, 8.2550e-06, 1.5085e-05, 1.5085e-05, 3.5000e-05])"
      ]
     },
     "execution_count": 32,
     "metadata": {},
     "output_type": "execute_result"
    }
   ],
   "source": [
    "b = a + w\n",
    "b.n"
   ]
  },
  {
   "cell_type": "code",
   "execution_count": 33,
   "metadata": {},
   "outputs": [
    {
     "data": {
      "text/plain": [
       "array([6.5085e-05, 6.4500e-05, 6.5085e-05, 6.5085e-05, 6.4500e-05,\n",
       "       3.2500e-05, 2.8255e-05, 6.5085e-05, 6.5085e-05, 5.1000e-05])"
      ]
     },
     "execution_count": 33,
     "metadata": {},
     "output_type": "execute_result"
    }
   ],
   "source": [
    "c = b + g\n",
    "c.n"
   ]
  },
  {
   "cell_type": "code",
   "execution_count": 34,
   "metadata": {},
   "outputs": [],
   "source": [
    "k = c * nsy.sqrt(((b**2) - (a**2)) / (c**2 - a**2)) / b\n",
    "k_dash = nsy.sqrt(1 - k**2)"
   ]
  },
  {
   "cell_type": "code",
   "execution_count": 35,
   "metadata": {},
   "outputs": [
    {
     "data": {
      "text/latex": [
       "$\\displaystyle \\frac{\\sqrt{\\frac{- \\left(\\frac{s}{Ø}\\right)^{Ø} + \\left(\\frac{s}{Ø} + w\\right)^{Ø}}{- \\left(\\frac{s}{Ø}\\right)^{Ø} + \\left(s Ø + \\frac{s}{Ø} + w\\right)^{Ø}}} \\left(s Ø + \\frac{s}{Ø} + w\\right)}{\\frac{s}{Ø} + w}$"
      ],
      "text/plain": [
       "sqrt((-(s/Ø)**Ø + (s/Ø + w)**Ø)/(-(s/Ø)**Ø + (s*Ø + s/Ø + w)**Ø))*(s*Ø + s/Ø + w)/(s/Ø + w)"
      ]
     },
     "execution_count": 35,
     "metadata": {},
     "output_type": "execute_result"
    }
   ],
   "source": [
    "k.se"
   ]
  },
  {
   "cell_type": "markdown",
   "metadata": {},
   "source": [
    "#### Create a function"
   ]
  },
  {
   "cell_type": "code",
   "execution_count": 36,
   "metadata": {},
   "outputs": [
    {
     "data": {
      "text/plain": [
       "array([1.91881395, 2.24837478, 1.91881395, 1.91881395, 1.8683864 ,\n",
       "       4.25523385, 2.27686351, 1.91881395, 1.91881395, 4.21912798])"
      ]
     },
     "execution_count": 36,
     "metadata": {},
     "output_type": "execute_result"
    }
   ],
   "source": [
    "K_k = nsy.complete_elliptical_integral_first_kind(k)\n",
    "K_k_dash =  nsy.complete_elliptical_integral_first_kind(k_dash)\n",
    "K_k.n"
   ]
  },
  {
   "cell_type": "code",
   "execution_count": 37,
   "metadata": {},
   "outputs": [
    {
     "data": {
      "text/markdown": [
       "|                     | Value                                                                                                                                                                                                                                                                                                                                                                                                                                                                                                                                              |\n",
       "|:--------------------|:---------------------------------------------------------------------------------------------------------------------------------------------------------------------------------------------------------------------------------------------------------------------------------------------------------------------------------------------------------------------------------------------------------------------------------------------------------------------------------------------------------------------------------------------------|\n",
       "| name                | capacitace_abscence_all_dialectrics                                                                                                                                                                                                                                                                                                                                                                                                                                                                                                                |\n",
       "| symbol              | \\begin{equation}Ø\\end{equation}                                                                                                                                                                                                                                                                                                                                                                                                                                                                                                                    |\n",
       "| symbolic_expression | \\begin{equation}\\frac{\\epsilon_0 Ø K\\left(\\sqrt{Ø - \\left(\\frac{\\sqrt{\\frac{- \\left(\\frac{s}{Ø}\\right)^{Ø} + \\left(\\frac{s}{Ø} + w\\right)^{Ø}}{- \\left(\\frac{s}{Ø}\\right)^{Ø} + \\left(s Ø + \\frac{s}{Ø} + w\\right)^{Ø}}} \\left(s Ø + \\frac{s}{Ø} + w\\right)}{\\frac{s}{Ø} + w}\\right)^{Ø}}\\right)}{K\\left(\\frac{\\sqrt{\\frac{- \\left(\\frac{s}{Ø}\\right)^{Ø} + \\left(\\frac{s}{Ø} + w\\right)^{Ø}}{- \\left(\\frac{s}{Ø}\\right)^{Ø} + \\left(s Ø + \\frac{s}{Ø} + w\\right)^{Ø}}} \\left(s Ø + \\frac{s}{Ø} + w\\right)}{\\frac{s}{Ø} + w}\\right)}\\end{equation} |\n",
       "| numerical           | [4.26133297e-11 3.07990346e-11 4.26133297e-11 4.26133297e-11                                                                                                                                                                                                                                                                                                                                                                                                                                                                                       |\n",
       "|                     |  4.56578167e-11 1.33493359e-11 3.01362334e-11 4.26133297e-11                                                                                                                                                                                                                                                                                                                                                                                                                                                                                       |\n",
       "|                     |  4.26133297e-11 1.34743349e-11]                                                                                                                                                                                                                                                                                                                                                                                                                                                                                                                    |\n",
       "| unit                | Symbol: \\begin{equation}Ø\\end{equation}                                                                                                                                                                                                                                                                                                                                                                                                                                                                                                            |\n",
       "|                     | Symbolic Expression: \\begin{equation}\\frac{F Ø}{m}\\end{equation}                                                                                                                                                                                                                                                                                                                                                                                                                                                                                   |"
      ],
      "text/plain": [
       "Value                                      name  \\\n",
       "Value  capacitace_abscence_all_dialectrics   \n",
       "\n",
       "                                         name_expression  \\\n",
       "Value  (((4_times_permittivity_vaccum)_times_complete...   \n",
       "\n",
       "                                               numerical  \\\n",
       "Value  [4.261332969695686e-11, 3.079903458118599e-11,...   \n",
       "\n",
       "                                symbol  \\\n",
       "Value  \\begin{equation}Ø\\end{equation}   \n",
       "\n",
       "                                     symbolic_expression  \\\n",
       "Value  \\begin{equation}\\frac{\\epsilon_0 Ø K\\left(\\sqr...   \n",
       "\n",
       "                                                    unit  \n",
       "Value  Symbol: \\begin{equation}Ø\\end{equation}\\nSymbo...  "
      ]
     },
     "execution_count": 37,
     "metadata": {},
     "output_type": "execute_result"
    }
   ],
   "source": [
    "C_0 = 4 * e_0 *  K_k_dash / K_k\n",
    "C_0.name = \"capacitace_abscence_all_dialectrics\"\n",
    "C_0"
   ]
  },
  {
   "cell_type": "code",
   "execution_count": 38,
   "metadata": {},
   "outputs": [
    {
     "data": {
      "text/plain": [
       "array([4.26133297e-11, 3.07990346e-11, 4.26133297e-11, 4.26133297e-11,\n",
       "       4.56578167e-11, 1.33493359e-11, 3.01362334e-11, 4.26133297e-11,\n",
       "       4.26133297e-11, 1.34743349e-11])"
      ]
     },
     "execution_count": 38,
     "metadata": {},
     "output_type": "execute_result"
    }
   ],
   "source": [
    "C_0.n"
   ]
  },
  {
   "cell_type": "code",
   "execution_count": 39,
   "metadata": {},
   "outputs": [
    {
     "data": {
      "text/markdown": [
       "|                     | Variable                                             |\n",
       "|:--------------------|:-----------------------------------------------------|\n",
       "| name                | cpw_bottom_diaelectric_thickness                     |\n",
       "| symbol              | \\begin{equation}h_{5}\\end{equation}                  |\n",
       "| symbolic_expression | \\begin{equation}Ø\\end{equation}                      |\n",
       "| numerical           | 0.00075                                              |\n",
       "| unit                | Symbol: \\begin{equation}m\\end{equation}              |\n",
       "|                     | Symbolic Expression: \\begin{equation}Ø\\end{equation} |"
      ],
      "text/plain": [
       "Variable                                      name name_expression  numerical  \\\n",
       "Variable  cpw_bottom_diaelectric_thickness                    0.00075   \n",
       "\n",
       "                                       symbol  \\\n",
       "Variable  \\begin{equation}h_{5}\\end{equation}   \n",
       "\n",
       "                      symbolic_expression  \\\n",
       "Variable  \\begin{equation}Ø\\end{equation}   \n",
       "\n",
       "                                                       unit  \n",
       "Variable  Symbol: \\begin{equation}m\\end{equation}\\nSymbo...  "
      ]
     },
     "execution_count": 39,
     "metadata": {},
     "output_type": "execute_result"
    }
   ],
   "source": [
    "h_5 =  nsy.Variable(\n",
    "    name=\"cpw_bottom_diaelectric_thickness\",\n",
    "    symbol=\"h_5\",\n",
    "    unit=nsy.u.meter)\n",
    "h_5.n = 750e-6\n",
    "h_5"
   ]
  },
  {
   "cell_type": "code",
   "execution_count": 40,
   "metadata": {},
   "outputs": [
    {
     "data": {
      "text/markdown": [
       "|                     | Value                                                                                                                                                                                                                                                                                                                                                                                                                                                                          |\n",
       "|:--------------------|:-------------------------------------------------------------------------------------------------------------------------------------------------------------------------------------------------------------------------------------------------------------------------------------------------------------------------------------------------------------------------------------------------------------------------------------------------------------------------------|\n",
       "| name                |                                                                                                                                                                                                                                                                                                                                                                                                                                                                                |\n",
       "| symbol              | \\begin{equation}Ø\\end{equation}                                                                                                                                                                                                                                                                                                                                                                                                                                                |\n",
       "| symbolic_expression | \\begin{equation}\\frac{\\sqrt{\\frac{- \\sinh^{Ø}{\\left(\\frac{\\pi s}{h_{5} Ø^{2}} \\right)} + \\sinh^{Ø}{\\left(\\frac{\\pi \\left(\\frac{s}{Ø} + w\\right)}{h_{5} Ø} \\right)}}{- \\sinh^{Ø}{\\left(\\frac{\\pi s}{h_{5} Ø^{2}} \\right)} + \\sinh^{Ø}{\\left(\\frac{\\pi \\left(s Ø + \\frac{s}{Ø} + w\\right)}{h_{5} Ø} \\right)}}} \\sinh{\\left(\\frac{\\pi \\left(s Ø + \\frac{s}{Ø} + w\\right)}{h_{5} Ø} \\right)}}{\\sinh{\\left(\\frac{\\pi \\left(\\frac{s}{Ø} + w\\right)}{h_{5} Ø} \\right)}}\\end{equation} |\n",
       "| numerical           | [0.5704042  0.79607327 0.5704042  0.5704042  0.51658493 0.99676137                                                                                                                                                                                                                                                                                                                                                                                                             |\n",
       "|                     |  0.80845705 0.5704042  0.5704042  0.99651769]                                                                                                                                                                                                                                                                                                                                                                                                                                  |\n",
       "| unit                | Symbol: \\begin{equation}Ø\\end{equation}                                                                                                                                                                                                                                                                                                                                                                                                                                        |\n",
       "|                     | Symbolic Expression: \\begin{equation}\\text{NaN}\\end{equation}                                                                                                                                                                                                                                                                                                                                                                                                                  |"
      ],
      "text/plain": [
       "Value      name                                    name_expression  \\\n",
       "Value       ((sinh(((pi_times_(((signal_width)_per_(2)_plu...   \n",
       "\n",
       "                                               numerical  \\\n",
       "Value  [0.5704042005561659, 0.7960732720702351, 0.570...   \n",
       "\n",
       "                                symbol  \\\n",
       "Value  \\begin{equation}Ø\\end{equation}   \n",
       "\n",
       "                                     symbolic_expression  \\\n",
       "Value  \\begin{equation}\\frac{\\sqrt{\\frac{- \\sinh^{Ø}{...   \n",
       "\n",
       "                                                    unit  \n",
       "Value  Symbol: \\begin{equation}Ø\\end{equation}\\nSymbo...  "
      ]
     },
     "execution_count": 40,
     "metadata": {},
     "output_type": "execute_result"
    }
   ],
   "source": [
    "k_5_sinh_a = nsy.sinh(nsy.c.pi * a /  (2 * h_5))\n",
    "k_5_sinh_b = nsy.sinh(nsy.c.pi * b /  (2 * h_5))\n",
    "k_5_sinh_c = nsy.sinh(nsy.c.pi * c /  (2 * h_5))\n",
    "k_5 = k_5_sinh_c * nsy.sqrt((k_5_sinh_b**2 - k_5_sinh_a**2) / (k_5_sinh_c**2 - k_5_sinh_a**2)) / k_5_sinh_b\n",
    "k_5_dash = nsy.sqrt(1 - k_5**2)\n",
    "k_5"
   ]
  },
  {
   "cell_type": "code",
   "execution_count": 41,
   "metadata": {},
   "outputs": [],
   "source": [
    "K_k_5 = nsy.complete_elliptical_integral_first_kind(k_5)\n",
    "K_k_5_dash =  nsy.complete_elliptical_integral_first_kind(k_5_dash)"
   ]
  },
  {
   "cell_type": "code",
   "execution_count": 42,
   "metadata": {},
   "outputs": [
    {
     "data": {
      "text/plain": [
       "array([2.44999957, 2.44999936, 2.44999957, 2.44999957, 2.44999962,\n",
       "       2.44999987, 2.44999998, 2.44999957, 2.44999957, 2.44999925])"
      ]
     },
     "execution_count": 42,
     "metadata": {},
     "output_type": "execute_result"
    }
   ],
   "source": [
    "e_r_5 = e_r_0\n",
    "e_eff_cpw = 1 + (e_r_5 - 1) * (K_k / K_k_dash) * (K_k_5_dash / K_k_5) / 2\n",
    "e_eff_cpw.n"
   ]
  },
  {
   "cell_type": "code",
   "execution_count": 43,
   "metadata": {},
   "outputs": [
    {
     "data": {
      "text/plain": [
       "array([1.91530392e+08, 1.91530401e+08, 1.91530392e+08, 1.91530392e+08,\n",
       "       1.91530391e+08, 1.91530381e+08, 1.91530377e+08, 1.91530392e+08,\n",
       "       1.91530392e+08, 1.91530405e+08])"
      ]
     },
     "execution_count": 43,
     "metadata": {},
     "output_type": "execute_result"
    }
   ],
   "source": [
    "v_phase = nsy.c.speed_of_light / nsy.sqrt(e_eff_cpw)\n",
    "v_phase.n"
   ]
  },
  {
   "cell_type": "code",
   "execution_count": 44,
   "metadata": {},
   "outputs": [
    {
     "data": {
      "text/plain": [
       "array([1.04402640e-10, 7.54576149e-11, 1.04402640e-10, 1.04402640e-10,\n",
       "       1.11861634e-10, 3.27058714e-11, 7.38337711e-11, 1.04402640e-10,\n",
       "       1.04402640e-10, 3.30121103e-11])"
      ]
     },
     "execution_count": 44,
     "metadata": {},
     "output_type": "execute_result"
    }
   ],
   "source": [
    "C = C_0 * e_eff_cpw\n",
    "C.n"
   ]
  },
  {
   "cell_type": "code",
   "execution_count": 45,
   "metadata": {},
   "outputs": [
    {
     "data": {
      "text/plain": [
       "array([ 50.00930541,  69.19252965,  50.00930541,  50.00930541,\n",
       "        46.67465835, 159.63811978,  70.71430647,  50.00930541,\n",
       "        50.00930541, 158.15720641])"
      ]
     },
     "execution_count": 45,
     "metadata": {},
     "output_type": "execute_result"
    }
   ],
   "source": [
    "z_0_cpw = 1 / (C * v_phase)\n",
    "z_0_cpw.name = \"finite_ground_line_characteristic_impedance\"\n",
    "z_0_cpw.n"
   ]
  },
  {
   "cell_type": "code",
   "execution_count": 46,
   "metadata": {},
   "outputs": [
    {
     "data": {
      "text/latex": [
       "$\\displaystyle \\frac{K\\left(\\frac{\\sqrt{\\frac{- \\left(\\frac{s}{Ø}\\right)^{Ø} + \\left(\\frac{s}{Ø} + w\\right)^{Ø}}{- \\left(\\frac{s}{Ø}\\right)^{Ø} + \\left(s Ø + \\frac{s}{Ø} + w\\right)^{Ø}}} \\left(s Ø + \\frac{s}{Ø} + w\\right)}{\\frac{s}{Ø} + w}\\right)}{\\epsilon_0 c \\sqrt{Ø + \\frac{\\left(v_{f} - Ø\\right) K\\left(\\frac{\\sqrt{\\frac{- \\left(\\frac{s}{Ø}\\right)^{Ø} + \\left(\\frac{s}{Ø} + w\\right)^{Ø}}{- \\left(\\frac{s}{Ø}\\right)^{Ø} + \\left(s Ø + \\frac{s}{Ø} + w\\right)^{Ø}}} \\left(s Ø + \\frac{s}{Ø} + w\\right)}{\\frac{s}{Ø} + w}\\right) K\\left(\\sqrt{Ø - \\left(\\frac{\\sqrt{\\frac{- \\sinh^{Ø}{\\left(\\frac{\\pi s}{h_{5} Ø^{2}} \\right)} + \\sinh^{Ø}{\\left(\\frac{\\pi \\left(\\frac{s}{Ø} + w\\right)}{h_{5} Ø} \\right)}}{- \\sinh^{Ø}{\\left(\\frac{\\pi s}{h_{5} Ø^{2}} \\right)} + \\sinh^{Ø}{\\left(\\frac{\\pi \\left(s Ø + \\frac{s}{Ø} + w\\right)}{h_{5} Ø} \\right)}}} \\sinh{\\left(\\frac{\\pi \\left(s Ø + \\frac{s}{Ø} + w\\right)}{h_{5} Ø} \\right)}}{\\sinh{\\left(\\frac{\\pi \\left(\\frac{s}{Ø} + w\\right)}{h_{5} Ø} \\right)}}\\right)^{Ø}}\\right)}{Ø K\\left(\\frac{\\sqrt{\\frac{- \\sinh^{Ø}{\\left(\\frac{\\pi s}{h_{5} Ø^{2}} \\right)} + \\sinh^{Ø}{\\left(\\frac{\\pi \\left(\\frac{s}{Ø} + w\\right)}{h_{5} Ø} \\right)}}{- \\sinh^{Ø}{\\left(\\frac{\\pi s}{h_{5} Ø^{2}} \\right)} + \\sinh^{Ø}{\\left(\\frac{\\pi \\left(s Ø + \\frac{s}{Ø} + w\\right)}{h_{5} Ø} \\right)}}} \\sinh{\\left(\\frac{\\pi \\left(s Ø + \\frac{s}{Ø} + w\\right)}{h_{5} Ø} \\right)}}{\\sinh{\\left(\\frac{\\pi \\left(\\frac{s}{Ø} + w\\right)}{h_{5} Ø} \\right)}}\\right) K\\left(\\sqrt{Ø - \\left(\\frac{\\sqrt{\\frac{- \\left(\\frac{s}{Ø}\\right)^{Ø} + \\left(\\frac{s}{Ø} + w\\right)^{Ø}}{- \\left(\\frac{s}{Ø}\\right)^{Ø} + \\left(s Ø + \\frac{s}{Ø} + w\\right)^{Ø}}} \\left(s Ø + \\frac{s}{Ø} + w\\right)}{\\frac{s}{Ø} + w}\\right)^{Ø}}\\right)}} K\\left(\\sqrt{Ø - \\left(\\frac{\\sqrt{\\frac{- \\left(\\frac{s}{Ø}\\right)^{Ø} + \\left(\\frac{s}{Ø} + w\\right)^{Ø}}{- \\left(\\frac{s}{Ø}\\right)^{Ø} + \\left(s Ø + \\frac{s}{Ø} + w\\right)^{Ø}}} \\left(s Ø + \\frac{s}{Ø} + w\\right)}{\\frac{s}{Ø} + w}\\right)^{Ø}}\\right)}$"
      ],
      "text/plain": [
       "elliptic_k(sqrt((-(s/Ø)**Ø + (s/Ø + w)**Ø)/(-(s/Ø)**Ø + (s*Ø + s/Ø + w)**Ø))*(s*Ø + s/Ø + w)/(s/Ø + w))/(\\epsilon_0*c*sqrt(Ø + (v_f - Ø)*elliptic_k(sqrt((-(s/Ø)**Ø + (s/Ø + w)**Ø)/(-(s/Ø)**Ø + (s*Ø + s/Ø + w)**Ø))*(s*Ø + s/Ø + w)/(s/Ø + w))*elliptic_k(sqrt(Ø - (sqrt((-sinh(\\pi*s/(h_5*Ø**2))**Ø + sinh(\\pi*(s/Ø + w)/(h_5*Ø))**Ø)/(-sinh(\\pi*s/(h_5*Ø**2))**Ø + sinh(\\pi*(s*Ø + s/Ø + w)/(h_5*Ø))**Ø))*sinh(\\pi*(s*Ø + s/Ø + w)/(h_5*Ø))/sinh(\\pi*(s/Ø + w)/(h_5*Ø)))**Ø))/(Ø*elliptic_k(sqrt((-sinh(\\pi*s/(h_5*Ø**2))**Ø + sinh(\\pi*(s/Ø + w)/(h_5*Ø))**Ø)/(-sinh(\\pi*s/(h_5*Ø**2))**Ø + sinh(\\pi*(s*Ø + s/Ø + w)/(h_5*Ø))**Ø))*sinh(\\pi*(s*Ø + s/Ø + w)/(h_5*Ø))/sinh(\\pi*(s/Ø + w)/(h_5*Ø)))*elliptic_k(sqrt(Ø - (sqrt((-(s/Ø)**Ø + (s/Ø + w)**Ø)/(-(s/Ø)**Ø + (s*Ø + s/Ø + w)**Ø))*(s*Ø + s/Ø + w)/(s/Ø + w))**Ø))))*elliptic_k(sqrt(Ø - (sqrt((-(s/Ø)**Ø + (s/Ø + w)**Ø)/(-(s/Ø)**Ø + (s*Ø + s/Ø + w)**Ø))*(s*Ø + s/Ø + w)/(s/Ø + w))**Ø)))"
      ]
     },
     "execution_count": 46,
     "metadata": {},
     "output_type": "execute_result"
    }
   ],
   "source": [
    "z_0_cpw.se"
   ]
  },
  {
   "cell_type": "code",
   "execution_count": 47,
   "metadata": {},
   "outputs": [],
   "source": [
    "# Operating power and heat dissipation\n",
    "# Note that we want to operate heaters at approx 20V RF, which will correspond to a power transfer of V^2/R = 400/50 = 20W so we need to dissipate that heat.\n",
    "# Of course that's a bit too much. But we still need to match the source 50 ohms to the load at 20V. "
   ]
  },
  {
   "cell_type": "code",
   "execution_count": 48,
   "metadata": {},
   "outputs": [
    {
     "data": {
      "text/html": [
       "<div>\n",
       "<style scoped>\n",
       "    .dataframe tbody tr th:only-of-type {\n",
       "        vertical-align: middle;\n",
       "    }\n",
       "\n",
       "    .dataframe tbody tr th {\n",
       "        vertical-align: top;\n",
       "    }\n",
       "\n",
       "    .dataframe thead th {\n",
       "        text-align: right;\n",
       "    }\n",
       "</style>\n",
       "<table border=\"1\" class=\"dataframe\">\n",
       "  <thead>\n",
       "    <tr style=\"text-align: right;\">\n",
       "      <th></th>\n",
       "      <th>operating_frequency</th>\n",
       "      <th>coplanar_waveguide_quarter_wavelength</th>\n",
       "      <th>signal_width</th>\n",
       "      <th>gap_width</th>\n",
       "      <th>ground_width</th>\n",
       "      <th>input_impedance_at_lambda_4</th>\n",
       "      <th>desired_line_impedance</th>\n",
       "      <th>line_impedance_finite_ground</th>\n",
       "      <th>line_impedance_infinite_ground</th>\n",
       "    </tr>\n",
       "  </thead>\n",
       "  <tbody>\n",
       "    <tr>\n",
       "      <th>0</th>\n",
       "      <td>1.200000e+10</td>\n",
       "      <td>3162.621085</td>\n",
       "      <td>0.000025</td>\n",
       "      <td>0.000003</td>\n",
       "      <td>0.000050</td>\n",
       "      <td>50</td>\n",
       "      <td>50.000000</td>\n",
       "      <td>50.009305</td>\n",
       "      <td>49.363660</td>\n",
       "    </tr>\n",
       "    <tr>\n",
       "      <th>1</th>\n",
       "      <td>1.200000e+10</td>\n",
       "      <td>3162.621085</td>\n",
       "      <td>0.000023</td>\n",
       "      <td>0.000007</td>\n",
       "      <td>0.000046</td>\n",
       "      <td>50</td>\n",
       "      <td>50.000000</td>\n",
       "      <td>69.192530</td>\n",
       "      <td>67.755920</td>\n",
       "    </tr>\n",
       "    <tr>\n",
       "      <th>2</th>\n",
       "      <td>1.100000e+10</td>\n",
       "      <td>3450.132093</td>\n",
       "      <td>0.000025</td>\n",
       "      <td>0.000003</td>\n",
       "      <td>0.000050</td>\n",
       "      <td>50</td>\n",
       "      <td>50.000000</td>\n",
       "      <td>50.009305</td>\n",
       "      <td>49.363660</td>\n",
       "    </tr>\n",
       "    <tr>\n",
       "      <th>3</th>\n",
       "      <td>1.050000e+10</td>\n",
       "      <td>3614.424097</td>\n",
       "      <td>0.000025</td>\n",
       "      <td>0.000003</td>\n",
       "      <td>0.000050</td>\n",
       "      <td>50</td>\n",
       "      <td>50.000000</td>\n",
       "      <td>50.009305</td>\n",
       "      <td>49.363660</td>\n",
       "    </tr>\n",
       "    <tr>\n",
       "      <th>4</th>\n",
       "      <td>2.500000e+10</td>\n",
       "      <td>1518.058121</td>\n",
       "      <td>0.000025</td>\n",
       "      <td>0.000002</td>\n",
       "      <td>0.000050</td>\n",
       "      <td>50</td>\n",
       "      <td>50.000000</td>\n",
       "      <td>46.674658</td>\n",
       "      <td>46.126636</td>\n",
       "    </tr>\n",
       "    <tr>\n",
       "      <th>5</th>\n",
       "      <td>2.500000e+10</td>\n",
       "      <td>1518.058121</td>\n",
       "      <td>0.000005</td>\n",
       "      <td>0.000020</td>\n",
       "      <td>0.000010</td>\n",
       "      <td>50</td>\n",
       "      <td>158.113883</td>\n",
       "      <td>159.638120</td>\n",
       "      <td>146.422610</td>\n",
       "    </tr>\n",
       "    <tr>\n",
       "      <th>6</th>\n",
       "      <td>2.500000e+10</td>\n",
       "      <td>1518.058121</td>\n",
       "      <td>0.000010</td>\n",
       "      <td>0.000003</td>\n",
       "      <td>0.000020</td>\n",
       "      <td>50</td>\n",
       "      <td>70.710678</td>\n",
       "      <td>70.714306</td>\n",
       "      <td>69.195615</td>\n",
       "    </tr>\n",
       "    <tr>\n",
       "      <th>7</th>\n",
       "      <td>4.500000e+10</td>\n",
       "      <td>843.365623</td>\n",
       "      <td>0.000025</td>\n",
       "      <td>0.000003</td>\n",
       "      <td>0.000050</td>\n",
       "      <td>50</td>\n",
       "      <td>50.000000</td>\n",
       "      <td>50.009305</td>\n",
       "      <td>49.363660</td>\n",
       "    </tr>\n",
       "    <tr>\n",
       "      <th>8</th>\n",
       "      <td>1.050000e+10</td>\n",
       "      <td>3614.424097</td>\n",
       "      <td>0.000025</td>\n",
       "      <td>0.000003</td>\n",
       "      <td>0.000050</td>\n",
       "      <td>50</td>\n",
       "      <td>50.000000</td>\n",
       "      <td>50.009305</td>\n",
       "      <td>49.363660</td>\n",
       "    </tr>\n",
       "    <tr>\n",
       "      <th>9</th>\n",
       "      <td>2.500000e+10</td>\n",
       "      <td>1518.058121</td>\n",
       "      <td>0.000008</td>\n",
       "      <td>0.000031</td>\n",
       "      <td>0.000016</td>\n",
       "      <td>50</td>\n",
       "      <td>158.113883</td>\n",
       "      <td>158.157206</td>\n",
       "      <td>145.250608</td>\n",
       "    </tr>\n",
       "  </tbody>\n",
       "</table>\n",
       "</div>"
      ],
      "text/plain": [
       "   operating_frequency  coplanar_waveguide_quarter_wavelength  signal_width  \\\n",
       "0         1.200000e+10                            3162.621085      0.000025   \n",
       "1         1.200000e+10                            3162.621085      0.000023   \n",
       "2         1.100000e+10                            3450.132093      0.000025   \n",
       "3         1.050000e+10                            3614.424097      0.000025   \n",
       "4         2.500000e+10                            1518.058121      0.000025   \n",
       "5         2.500000e+10                            1518.058121      0.000005   \n",
       "6         2.500000e+10                            1518.058121      0.000010   \n",
       "7         4.500000e+10                             843.365623      0.000025   \n",
       "8         1.050000e+10                            3614.424097      0.000025   \n",
       "9         2.500000e+10                            1518.058121      0.000008   \n",
       "\n",
       "   gap_width  ground_width  input_impedance_at_lambda_4  \\\n",
       "0   0.000003      0.000050                           50   \n",
       "1   0.000007      0.000046                           50   \n",
       "2   0.000003      0.000050                           50   \n",
       "3   0.000003      0.000050                           50   \n",
       "4   0.000002      0.000050                           50   \n",
       "5   0.000020      0.000010                           50   \n",
       "6   0.000003      0.000020                           50   \n",
       "7   0.000003      0.000050                           50   \n",
       "8   0.000003      0.000050                           50   \n",
       "9   0.000031      0.000016                           50   \n",
       "\n",
       "   desired_line_impedance  line_impedance_finite_ground  \\\n",
       "0               50.000000                     50.009305   \n",
       "1               50.000000                     69.192530   \n",
       "2               50.000000                     50.009305   \n",
       "3               50.000000                     50.009305   \n",
       "4               50.000000                     46.674658   \n",
       "5              158.113883                    159.638120   \n",
       "6               70.710678                     70.714306   \n",
       "7               50.000000                     50.009305   \n",
       "8               50.000000                     50.009305   \n",
       "9              158.113883                    158.157206   \n",
       "\n",
       "   line_impedance_infinite_ground  \n",
       "0                       49.363660  \n",
       "1                       67.755920  \n",
       "2                       49.363660  \n",
       "3                       49.363660  \n",
       "4                       46.126636  \n",
       "5                      146.422610  \n",
       "6                       69.195615  \n",
       "7                       49.363660  \n",
       "8                       49.363660  \n",
       "9                      145.250608  "
      ]
     },
     "execution_count": 48,
     "metadata": {},
     "output_type": "execute_result"
    }
   ],
   "source": [
    "design = pd.DataFrame({\n",
    "    \"operating_frequency\": f_0.n,\n",
    "    \"coplanar_waveguide_quarter_wavelength\": lambda_4.n * 1e6,\n",
    "    \"signal_width\": s.n,\n",
    "    \"gap_width\": w.n,\n",
    "    \"ground_width\": g.n,\n",
    "    \"input_impedance_at_lambda_4\": z_in_lambda_4.n,\n",
    "    \"desired_line_impedance\":z_o.n,\n",
    "    \"line_impedance_finite_ground\": z_0_cpw.n,\n",
    "    \"line_impedance_infinite_ground\": z_0_infinite.n,\n",
    "}, index=range(len(f_0.n)))\n",
    "design.to_csv(\"example_design.csv\")\n",
    "design"
   ]
  },
  {
   "cell_type": "code",
   "execution_count": 49,
   "metadata": {},
   "outputs": [
    {
     "data": {
      "text/plain": [
       "array([[10,  1],\n",
       "       [12,  3]])"
      ]
     },
     "execution_count": 49,
     "metadata": {},
     "output_type": "execute_result"
    }
   ],
   "source": [
    "np.array([(0,1), (2,3)]) + np.array([(10, 0)])"
   ]
  },
  {
   "cell_type": "code",
   "execution_count": 50,
   "metadata": {},
   "outputs": [
    {
     "data": {
      "text/plain": [
       "50.92857142857143"
      ]
     },
     "execution_count": 50,
     "metadata": {},
     "output_type": "execute_result"
    }
   ],
   "source": [
    "def resistance_calculator(heater_length,\n",
    "                          heater_width,\n",
    "                          heater_square_resistance = None):\n",
    "    return heater_square_resistance * heater_length / heater_width\n",
    "resistance_calculator(93,\n",
    "                      21,\n",
    "                      heater_square_resistance = 11.5)"
   ]
  }
 ],
 "metadata": {
  "kernelspec": {
   "display_name": "Python 3",
   "language": "python",
   "name": "python3"
  },
  "language_info": {
   "codemirror_mode": {
    "name": "ipython",
    "version": 3
   },
   "file_extension": ".py",
   "mimetype": "text/x-python",
   "name": "python",
   "nbconvert_exporter": "python",
   "pygments_lexer": "ipython3",
   "version": "3.8.3"
  }
 },
 "nbformat": 4,
 "nbformat_minor": 4
}
