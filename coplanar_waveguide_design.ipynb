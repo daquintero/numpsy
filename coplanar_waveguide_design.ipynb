{
    "cells": [
        {
            "cell_type": "markdown",
            "metadata": {},
            "source": ["# Coplanar Waveguide Design"],
        },
        {
            "cell_type": "code",
            "execution_count": 1,
            "metadata": {},
            "outputs": [],
            "source": ["import numpsy as nsy"],
        },
        {
            "cell_type": "markdown",
            "metadata": {},
            "source": ["Determine the signal to ground separation constant"],
        },
        {
            "cell_type": "code",
            "execution_count": 2,
            "metadata": {},
            "outputs": [
                {
                    "data": {
                        "text/plain": [
                            '<Variable name:"signal_width" name_expression:"" symbol:"a" symbolic_expression:"" numerical:"[]" unit:"<Unit name:"meter" symbol:"m" symbolic_expression:"Ø">">'
                        ]
                    },
                    "execution_count": 2,
                    "metadata": {},
                    "output_type": "execute_result",
                }
            ],
            "source": [
                "a = nsy.Variable(\n",
                '    name="signal_width",\n',
                '    symbol="a",\n',
                "    unit=nsy.u.meter)\n",
                "a",
            ],
        },
        {
            "cell_type": "code",
            "execution_count": 3,
            "metadata": {},
            "outputs": [
                {
                    "data": {
                        "text/plain": [
                            '<Variable name:"signal_width_plus_ground_width" name_expression:"" symbol:"b" symbolic_expression:"" numerical:"[]" unit:"<Unit name:"meter" symbol:"m" symbolic_expression:"Ø">">'
                        ]
                    },
                    "execution_count": 3,
                    "metadata": {},
                    "output_type": "execute_result",
                }
            ],
            "source": [
                "b = nsy.Variable(\n",
                '    name="signal_width_plus_ground_width",\n',
                '    symbol="b",\n',
                "    unit=nsy.u.meter)\n",
                "b",
            ],
        },
        {
            "cell_type": "code",
            "execution_count": 4,
            "metadata": {},
            "outputs": [
                {
                    "name": "stdout",
                    "output_type": "stream",
                    "text": ["[array([], dtype=float64), array([], dtype=float64)]\n"],
                }
            ],
            "source": ["k = a / b"],
        },
        {
            "cell_type": "code",
            "execution_count": null,
            "metadata": {},
            "outputs": [],
            "source": [],
        },
        {
            "cell_type": "code",
            "execution_count": null,
            "metadata": {"pycharm": {"name": "#%%\n"}},
            "outputs": [],
            "source": [],
        },
    ],
    "metadata": {
        "kernelspec": {
            "display_name": "Python 3",
            "language": "python",
            "name": "python3",
        },
        "language_info": {
            "codemirror_mode": {"name": "ipython", "version": 3},
            "file_extension": ".py",
            "mimetype": "text/x-python",
            "name": "python",
            "nbconvert_exporter": "python",
            "pygments_lexer": "ipython3",
            "version": "3.8.3",
        },
    },
    "nbformat": 4,
    "nbformat_minor": 4,
}
